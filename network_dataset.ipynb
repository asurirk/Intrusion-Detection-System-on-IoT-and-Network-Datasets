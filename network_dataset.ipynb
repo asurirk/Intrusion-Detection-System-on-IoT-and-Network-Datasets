{
 "cells": [
  {
   "cell_type": "markdown",
   "metadata": {
    "id": "klHO9yZrJv4e"
   },
   "source": [
    "**DATA PREPROCESSING**"
   ]
  },
  {
   "cell_type": "code",
   "execution_count": 1,
   "metadata": {
    "id": "RhPn2WE87zt2"
   },
   "outputs": [],
   "source": [
    "import pandas as pd\n",
    "import numpy as np\n",
    "import matplotlib.pyplot as plt\n",
    "import seaborn as sns\n",
    "from sklearn import preprocessing\n",
    "from sklearn.model_selection import train_test_split\n",
    "from numpy import array\n",
    "from numpy import argmax\n",
    "from sklearn.preprocessing import LabelEncoder"
   ]
  },
  {
   "cell_type": "code",
   "execution_count": 3,
   "metadata": {
    "colab": {
     "base_uri": "https://localhost:8080/",
     "height": 272,
     "resources": {
      "http://localhost:8080/nbextensions/google.colab/files.js": {
       "data": "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",
       "headers": [
        [
         "content-type",
         "application/javascript"
        ]
       ],
       "ok": true,
       "status": 200,
       "status_text": ""
      }
     }
    },
    "id": "syadMzy6AOV3",
    "outputId": "70f382f0-8fdc-4c50-e281-437f27b836f9"
   },
   "outputs": [
    {
     "data": {
      "text/html": [
       "\n",
       "     <input type=\"file\" id=\"files-b3379c4f-fc2f-48e4-a66f-d84380a03e98\" name=\"files[]\" multiple disabled\n",
       "        style=\"border:none\" />\n",
       "     <output id=\"result-b3379c4f-fc2f-48e4-a66f-d84380a03e98\">\n",
       "      Upload widget is only available when the cell has been executed in the\n",
       "      current browser session. Please rerun this cell to enable.\n",
       "      </output>\n",
       "      <script src=\"/nbextensions/google.colab/files.js\"></script> "
      ],
      "text/plain": [
       "<IPython.core.display.HTML object>"
      ]
     },
     "metadata": {
      "tags": []
     },
     "output_type": "display_data"
    },
    {
     "name": "stdout",
     "output_type": "stream",
     "text": [
      "Saving Train_Test_Network.csv to Train_Test_Network (1).csv\n"
     ]
    },
    {
     "data": {
      "text/html": [
       "<div>\n",
       "<style scoped>\n",
       "    .dataframe tbody tr th:only-of-type {\n",
       "        vertical-align: middle;\n",
       "    }\n",
       "\n",
       "    .dataframe tbody tr th {\n",
       "        vertical-align: top;\n",
       "    }\n",
       "\n",
       "    .dataframe thead th {\n",
       "        text-align: right;\n",
       "    }\n",
       "</style>\n",
       "<table border=\"1\" class=\"dataframe\">\n",
       "  <thead>\n",
       "    <tr style=\"text-align: right;\">\n",
       "      <th></th>\n",
       "      <th>ts</th>\n",
       "      <th>src_ip</th>\n",
       "      <th>src_port</th>\n",
       "      <th>dst_ip</th>\n",
       "      <th>dst_port</th>\n",
       "      <th>proto</th>\n",
       "      <th>service</th>\n",
       "      <th>duration</th>\n",
       "      <th>src_bytes</th>\n",
       "      <th>dst_bytes</th>\n",
       "      <th>conn_state</th>\n",
       "      <th>missed_bytes</th>\n",
       "      <th>src_pkts</th>\n",
       "      <th>src_ip_bytes</th>\n",
       "      <th>dst_pkts</th>\n",
       "      <th>dst_ip_bytes</th>\n",
       "      <th>dns_query</th>\n",
       "      <th>dns_qclass</th>\n",
       "      <th>dns_qtype</th>\n",
       "      <th>dns_rcode</th>\n",
       "      <th>dns_AA</th>\n",
       "      <th>dns_RD</th>\n",
       "      <th>dns_RA</th>\n",
       "      <th>dns_rejected</th>\n",
       "      <th>ssl_version</th>\n",
       "      <th>ssl_cipher</th>\n",
       "      <th>ssl_resumed</th>\n",
       "      <th>ssl_established</th>\n",
       "      <th>ssl_subject</th>\n",
       "      <th>ssl_issuer</th>\n",
       "      <th>http_trans_depth</th>\n",
       "      <th>http_method</th>\n",
       "      <th>http_uri</th>\n",
       "      <th>http_version</th>\n",
       "      <th>http_request_body_len</th>\n",
       "      <th>http_response_body_len</th>\n",
       "      <th>http_status_code</th>\n",
       "      <th>http_user_agent</th>\n",
       "      <th>http_orig_mime_types</th>\n",
       "      <th>http_resp_mime_types</th>\n",
       "      <th>weird_name</th>\n",
       "      <th>weird_addl</th>\n",
       "      <th>weird_notice</th>\n",
       "      <th>label</th>\n",
       "      <th>type</th>\n",
       "    </tr>\n",
       "  </thead>\n",
       "  <tbody>\n",
       "    <tr>\n",
       "      <th>0</th>\n",
       "      <td>1554198358</td>\n",
       "      <td>3.122.49.24</td>\n",
       "      <td>1883</td>\n",
       "      <td>192.168.1.152</td>\n",
       "      <td>52976</td>\n",
       "      <td>tcp</td>\n",
       "      <td>-</td>\n",
       "      <td>80549.530260</td>\n",
       "      <td>1762852</td>\n",
       "      <td>41933215</td>\n",
       "      <td>OTH</td>\n",
       "      <td>0</td>\n",
       "      <td>252181</td>\n",
       "      <td>14911156</td>\n",
       "      <td>2</td>\n",
       "      <td>236</td>\n",
       "      <td>-</td>\n",
       "      <td>0</td>\n",
       "      <td>0</td>\n",
       "      <td>0</td>\n",
       "      <td>-</td>\n",
       "      <td>-</td>\n",
       "      <td>-</td>\n",
       "      <td>-</td>\n",
       "      <td>-</td>\n",
       "      <td>-</td>\n",
       "      <td>-</td>\n",
       "      <td>-</td>\n",
       "      <td>-</td>\n",
       "      <td>-</td>\n",
       "      <td>-</td>\n",
       "      <td>-</td>\n",
       "      <td>-</td>\n",
       "      <td>-</td>\n",
       "      <td>0</td>\n",
       "      <td>0</td>\n",
       "      <td>0</td>\n",
       "      <td>-</td>\n",
       "      <td>-</td>\n",
       "      <td>-</td>\n",
       "      <td>bad_TCP_checksum</td>\n",
       "      <td>-</td>\n",
       "      <td>F</td>\n",
       "      <td>0</td>\n",
       "      <td>normal</td>\n",
       "    </tr>\n",
       "    <tr>\n",
       "      <th>1</th>\n",
       "      <td>1554198358</td>\n",
       "      <td>192.168.1.79</td>\n",
       "      <td>47260</td>\n",
       "      <td>192.168.1.255</td>\n",
       "      <td>15600</td>\n",
       "      <td>udp</td>\n",
       "      <td>-</td>\n",
       "      <td>0.000000</td>\n",
       "      <td>0</td>\n",
       "      <td>0</td>\n",
       "      <td>S0</td>\n",
       "      <td>0</td>\n",
       "      <td>1</td>\n",
       "      <td>63</td>\n",
       "      <td>0</td>\n",
       "      <td>0</td>\n",
       "      <td>-</td>\n",
       "      <td>0</td>\n",
       "      <td>0</td>\n",
       "      <td>0</td>\n",
       "      <td>-</td>\n",
       "      <td>-</td>\n",
       "      <td>-</td>\n",
       "      <td>-</td>\n",
       "      <td>-</td>\n",
       "      <td>-</td>\n",
       "      <td>-</td>\n",
       "      <td>-</td>\n",
       "      <td>-</td>\n",
       "      <td>-</td>\n",
       "      <td>-</td>\n",
       "      <td>-</td>\n",
       "      <td>-</td>\n",
       "      <td>-</td>\n",
       "      <td>0</td>\n",
       "      <td>0</td>\n",
       "      <td>0</td>\n",
       "      <td>-</td>\n",
       "      <td>-</td>\n",
       "      <td>-</td>\n",
       "      <td>-</td>\n",
       "      <td>-</td>\n",
       "      <td>-</td>\n",
       "      <td>0</td>\n",
       "      <td>normal</td>\n",
       "    </tr>\n",
       "    <tr>\n",
       "      <th>2</th>\n",
       "      <td>1554198359</td>\n",
       "      <td>192.168.1.152</td>\n",
       "      <td>1880</td>\n",
       "      <td>192.168.1.152</td>\n",
       "      <td>51782</td>\n",
       "      <td>tcp</td>\n",
       "      <td>-</td>\n",
       "      <td>0.000000</td>\n",
       "      <td>0</td>\n",
       "      <td>0</td>\n",
       "      <td>OTH</td>\n",
       "      <td>0</td>\n",
       "      <td>0</td>\n",
       "      <td>0</td>\n",
       "      <td>0</td>\n",
       "      <td>0</td>\n",
       "      <td>-</td>\n",
       "      <td>0</td>\n",
       "      <td>0</td>\n",
       "      <td>0</td>\n",
       "      <td>-</td>\n",
       "      <td>-</td>\n",
       "      <td>-</td>\n",
       "      <td>-</td>\n",
       "      <td>-</td>\n",
       "      <td>-</td>\n",
       "      <td>-</td>\n",
       "      <td>-</td>\n",
       "      <td>-</td>\n",
       "      <td>-</td>\n",
       "      <td>-</td>\n",
       "      <td>-</td>\n",
       "      <td>-</td>\n",
       "      <td>-</td>\n",
       "      <td>0</td>\n",
       "      <td>0</td>\n",
       "      <td>0</td>\n",
       "      <td>-</td>\n",
       "      <td>-</td>\n",
       "      <td>-</td>\n",
       "      <td>bad_TCP_checksum</td>\n",
       "      <td>-</td>\n",
       "      <td>F</td>\n",
       "      <td>0</td>\n",
       "      <td>normal</td>\n",
       "    </tr>\n",
       "    <tr>\n",
       "      <th>3</th>\n",
       "      <td>1554198359</td>\n",
       "      <td>192.168.1.152</td>\n",
       "      <td>34296</td>\n",
       "      <td>192.168.1.152</td>\n",
       "      <td>10502</td>\n",
       "      <td>tcp</td>\n",
       "      <td>-</td>\n",
       "      <td>0.000000</td>\n",
       "      <td>0</td>\n",
       "      <td>0</td>\n",
       "      <td>OTH</td>\n",
       "      <td>0</td>\n",
       "      <td>0</td>\n",
       "      <td>0</td>\n",
       "      <td>0</td>\n",
       "      <td>0</td>\n",
       "      <td>-</td>\n",
       "      <td>0</td>\n",
       "      <td>0</td>\n",
       "      <td>0</td>\n",
       "      <td>-</td>\n",
       "      <td>-</td>\n",
       "      <td>-</td>\n",
       "      <td>-</td>\n",
       "      <td>-</td>\n",
       "      <td>-</td>\n",
       "      <td>-</td>\n",
       "      <td>-</td>\n",
       "      <td>-</td>\n",
       "      <td>-</td>\n",
       "      <td>-</td>\n",
       "      <td>-</td>\n",
       "      <td>-</td>\n",
       "      <td>-</td>\n",
       "      <td>0</td>\n",
       "      <td>0</td>\n",
       "      <td>0</td>\n",
       "      <td>-</td>\n",
       "      <td>-</td>\n",
       "      <td>-</td>\n",
       "      <td>-</td>\n",
       "      <td>-</td>\n",
       "      <td>-</td>\n",
       "      <td>0</td>\n",
       "      <td>normal</td>\n",
       "    </tr>\n",
       "    <tr>\n",
       "      <th>4</th>\n",
       "      <td>1554198362</td>\n",
       "      <td>192.168.1.152</td>\n",
       "      <td>46608</td>\n",
       "      <td>192.168.1.190</td>\n",
       "      <td>53</td>\n",
       "      <td>udp</td>\n",
       "      <td>dns</td>\n",
       "      <td>0.000549</td>\n",
       "      <td>0</td>\n",
       "      <td>298</td>\n",
       "      <td>SHR</td>\n",
       "      <td>0</td>\n",
       "      <td>0</td>\n",
       "      <td>0</td>\n",
       "      <td>2</td>\n",
       "      <td>354</td>\n",
       "      <td>-</td>\n",
       "      <td>0</td>\n",
       "      <td>0</td>\n",
       "      <td>0</td>\n",
       "      <td>-</td>\n",
       "      <td>-</td>\n",
       "      <td>-</td>\n",
       "      <td>-</td>\n",
       "      <td>-</td>\n",
       "      <td>-</td>\n",
       "      <td>-</td>\n",
       "      <td>-</td>\n",
       "      <td>-</td>\n",
       "      <td>-</td>\n",
       "      <td>-</td>\n",
       "      <td>-</td>\n",
       "      <td>-</td>\n",
       "      <td>-</td>\n",
       "      <td>0</td>\n",
       "      <td>0</td>\n",
       "      <td>0</td>\n",
       "      <td>-</td>\n",
       "      <td>-</td>\n",
       "      <td>-</td>\n",
       "      <td>bad_UDP_checksum</td>\n",
       "      <td>-</td>\n",
       "      <td>F</td>\n",
       "      <td>0</td>\n",
       "      <td>normal</td>\n",
       "    </tr>\n",
       "  </tbody>\n",
       "</table>\n",
       "</div>"
      ],
      "text/plain": [
       "           ts         src_ip  src_port  ... weird_notice  label    type\n",
       "0  1554198358    3.122.49.24      1883  ...            F      0  normal\n",
       "1  1554198358   192.168.1.79     47260  ...            -      0  normal\n",
       "2  1554198359  192.168.1.152      1880  ...            F      0  normal\n",
       "3  1554198359  192.168.1.152     34296  ...            -      0  normal\n",
       "4  1554198362  192.168.1.152     46608  ...            F      0  normal\n",
       "\n",
       "[5 rows x 45 columns]"
      ]
     },
     "execution_count": 3,
     "metadata": {
      "tags": []
     },
     "output_type": "execute_result"
    }
   ],
   "source": [
    "from google.colab import files\n",
    "uploaded = files.upload()\n",
    "import io\n",
    "df = pd.read_csv(io.BytesIO(uploaded['Train_Test_Network.csv']))\n",
    "df.head()"
   ]
  },
  {
   "cell_type": "code",
   "execution_count": 4,
   "metadata": {
    "colab": {
     "base_uri": "https://localhost:8080/"
    },
    "id": "QEJKopm4AZ2y",
    "outputId": "e3c18940-21e6-41d8-8104-d50489fc1d75"
   },
   "outputs": [
    {
     "data": {
      "text/plain": [
       "(461043, 45)"
      ]
     },
     "execution_count": 4,
     "metadata": {
      "tags": []
     },
     "output_type": "execute_result"
    }
   ],
   "source": [
    "df.shape"
   ]
  },
  {
   "cell_type": "code",
   "execution_count": 5,
   "metadata": {
    "id": "OpwN7rxpAe4-"
   },
   "outputs": [],
   "source": [
    "df.drop(columns=['label','ts'],inplace=True)"
   ]
  },
  {
   "cell_type": "code",
   "execution_count": 6,
   "metadata": {
    "colab": {
     "base_uri": "https://localhost:8080/"
    },
    "id": "ckZTmgqRBLqS",
    "outputId": "746c0dae-3698-4411-e39c-5ce6d01dac7d"
   },
   "outputs": [
    {
     "data": {
      "text/plain": [
       "192.168.1.190      77033\n",
       "192.168.1.152      67784\n",
       "192.168.1.30       61637\n",
       "192.168.1.79       41098\n",
       "192.168.1.195      36089\n",
       "                   ...  \n",
       "113.8.137.186          1\n",
       "109.194.200.250        1\n",
       "209.24.125.50          1\n",
       "110.229.186.133        1\n",
       "56.180.141.199         1\n",
       "Name: src_ip, Length: 11536, dtype: int64"
      ]
     },
     "execution_count": 6,
     "metadata": {
      "tags": []
     },
     "output_type": "execute_result"
    }
   ],
   "source": [
    "df.src_ip.value_counts()"
   ]
  },
  {
   "cell_type": "code",
   "execution_count": 7,
   "metadata": {
    "colab": {
     "base_uri": "https://localhost:8080/"
    },
    "id": "KGU02bsMFb55",
    "outputId": "5e7ebe16-da85-4451-a38a-c5daba2fb1bb"
   },
   "outputs": [
    {
     "data": {
      "text/plain": [
       "src_ip                    0\n",
       "src_port                  0\n",
       "dst_ip                    0\n",
       "dst_port                  0\n",
       "proto                     0\n",
       "service                   0\n",
       "duration                  0\n",
       "src_bytes                 0\n",
       "dst_bytes                 0\n",
       "conn_state                0\n",
       "missed_bytes              0\n",
       "src_pkts                  0\n",
       "src_ip_bytes              0\n",
       "dst_pkts                  0\n",
       "dst_ip_bytes              0\n",
       "dns_query                 0\n",
       "dns_qclass                0\n",
       "dns_qtype                 0\n",
       "dns_rcode                 0\n",
       "dns_AA                    0\n",
       "dns_RD                    0\n",
       "dns_RA                    0\n",
       "dns_rejected              0\n",
       "ssl_version               0\n",
       "ssl_cipher                0\n",
       "ssl_resumed               0\n",
       "ssl_established           0\n",
       "ssl_subject               0\n",
       "ssl_issuer                0\n",
       "http_trans_depth          0\n",
       "http_method               0\n",
       "http_uri                  0\n",
       "http_version              0\n",
       "http_request_body_len     0\n",
       "http_response_body_len    0\n",
       "http_status_code          0\n",
       "http_user_agent           0\n",
       "http_orig_mime_types      0\n",
       "http_resp_mime_types      0\n",
       "weird_name                0\n",
       "weird_addl                0\n",
       "weird_notice              0\n",
       "type                      0\n",
       "dtype: int64"
      ]
     },
     "execution_count": 7,
     "metadata": {
      "tags": []
     },
     "output_type": "execute_result"
    }
   ],
   "source": [
    "df.isnull().sum()"
   ]
  },
  {
   "cell_type": "code",
   "execution_count": 8,
   "metadata": {
    "colab": {
     "base_uri": "https://localhost:8080/"
    },
    "id": "mrKNeAtdFgUc",
    "outputId": "946f9683-5d2b-47bd-c29e-9da98b035e67"
   },
   "outputs": [
    {
     "data": {
      "text/plain": [
       "-    365158\n",
       "F     81279\n",
       "T     14606\n",
       "Name: dns_AA, dtype: int64"
      ]
     },
     "execution_count": 8,
     "metadata": {
      "tags": []
     },
     "output_type": "execute_result"
    }
   ],
   "source": [
    "df.dns_AA.value_counts()"
   ]
  },
  {
   "cell_type": "code",
   "execution_count": 9,
   "metadata": {
    "colab": {
     "base_uri": "https://localhost:8080/"
    },
    "id": "6rbTUKD0F4br",
    "outputId": "1ff01588-e55a-4526-ee51-337d95c28801"
   },
   "outputs": [
    {
     "data": {
      "text/plain": [
       "-    365158\n",
       "F     63106\n",
       "T     32779\n",
       "Name: dns_RD, dtype: int64"
      ]
     },
     "execution_count": 9,
     "metadata": {
      "tags": []
     },
     "output_type": "execute_result"
    }
   ],
   "source": [
    "df.dns_RD.value_counts()"
   ]
  },
  {
   "cell_type": "code",
   "execution_count": 10,
   "metadata": {
    "colab": {
     "base_uri": "https://localhost:8080/"
    },
    "id": "RnhYXB-HF-YO",
    "outputId": "e6626983-4883-40e4-fb4c-7c3650d83b85"
   },
   "outputs": [
    {
     "data": {
      "text/plain": [
       "-    365158\n",
       "F     85997\n",
       "T      9888\n",
       "Name: dns_RA, dtype: int64"
      ]
     },
     "execution_count": 10,
     "metadata": {
      "tags": []
     },
     "output_type": "execute_result"
    }
   ],
   "source": [
    "df.dns_RA.value_counts()"
   ]
  },
  {
   "cell_type": "code",
   "execution_count": 11,
   "metadata": {
    "colab": {
     "base_uri": "https://localhost:8080/"
    },
    "id": "xKffvF0AGPJG",
    "outputId": "d59a4ee0-9834-4327-f891-a267fa73d9b9"
   },
   "outputs": [
    {
     "data": {
      "text/plain": [
       "-    365158\n",
       "F     89392\n",
       "T      6493\n",
       "Name: dns_rejected, dtype: int64"
      ]
     },
     "execution_count": 11,
     "metadata": {
      "tags": []
     },
     "output_type": "execute_result"
    }
   ],
   "source": [
    "df.dns_rejected.value_counts()"
   ]
  },
  {
   "cell_type": "code",
   "execution_count": 12,
   "metadata": {
    "colab": {
     "base_uri": "https://localhost:8080/"
    },
    "id": "5txRgmJSGVO3",
    "outputId": "01fd3ac8-53f2-436f-bb48-c6718c1110d1"
   },
   "outputs": [
    {
     "data": {
      "text/plain": [
       "-                                                                                                                    460809\n",
       "/no_nonce_string/                                                                                                        15\n",
       "/dvwa/login.php-r                                                                                                        13\n",
       "/no_nonce_string/ContentDirectory/scpd.xml                                                                               12\n",
       "/d/msdownload/update/software/defu/2019/02/updateplatform_23725566d66a26c81fbfaf79701b727f92a650ea.exe                    9\n",
       "                                                                                                                      ...  \n",
       "/d/msdownload/update/others/2019/04/28701422_19fc1c232bf7eb4d3ddd097afebcaa3a0479d76c.cab                                 1\n",
       "/MFEwTzBNMEswSTAJBgUrDgMCGgUABBTBL0V27RVZ7LBduom/nYB45SPUEwQU5Z1ZMIJHWMys+ghUNoZ7OrUETfACEA8sEMlbBsCTf7jUSfg+hWk=         1\n",
       "/d/msdownload/update/others/2019/04/28699978_267ce87ae387c89ad48620a61d803f590850a51e.cab                                 1\n",
       "/c/msdownload/update/others/2019/04/28699347_4732b1ab470d51de66dee45e4114cb6174f55279.cab                                 1\n",
       "/icon_LRG.jpg                                                                                                             1\n",
       "Name: http_uri, Length: 74, dtype: int64"
      ]
     },
     "execution_count": 12,
     "metadata": {
      "tags": []
     },
     "output_type": "execute_result"
    }
   ],
   "source": [
    "df.http_uri.value_counts()"
   ]
  },
  {
   "cell_type": "code",
   "execution_count": 13,
   "metadata": {
    "colab": {
     "base_uri": "https://localhost:8080/"
    },
    "id": "q8nFgqdmJIEQ",
    "outputId": "f041ce58-0775-4110-a34e-9721f82d30d6"
   },
   "outputs": [
    {
     "data": {
      "text/plain": [
       "-                                                                                                                    460809\n",
       "/no_nonce_string/                                                                                                        15\n",
       "/dvwa/login.php-r                                                                                                        13\n",
       "/no_nonce_string/ContentDirectory/scpd.xml                                                                               12\n",
       "/d/msdownload/update/software/defu/2019/02/updateplatform_23725566d66a26c81fbfaf79701b727f92a650ea.exe                    9\n",
       "                                                                                                                      ...  \n",
       "/d/msdownload/update/others/2019/04/28701422_19fc1c232bf7eb4d3ddd097afebcaa3a0479d76c.cab                                 1\n",
       "/MFEwTzBNMEswSTAJBgUrDgMCGgUABBTBL0V27RVZ7LBduom/nYB45SPUEwQU5Z1ZMIJHWMys+ghUNoZ7OrUETfACEA8sEMlbBsCTf7jUSfg+hWk=         1\n",
       "/d/msdownload/update/others/2019/04/28699978_267ce87ae387c89ad48620a61d803f590850a51e.cab                                 1\n",
       "/c/msdownload/update/others/2019/04/28699347_4732b1ab470d51de66dee45e4114cb6174f55279.cab                                 1\n",
       "/icon_LRG.jpg                                                                                                             1\n",
       "Name: http_uri, Length: 74, dtype: int64"
      ]
     },
     "execution_count": 13,
     "metadata": {
      "tags": []
     },
     "output_type": "execute_result"
    }
   ],
   "source": [
    "df.http_uri.value_counts()"
   ]
  },
  {
   "cell_type": "code",
   "execution_count": 14,
   "metadata": {
    "id": "3T-krcBPOJO4"
   },
   "outputs": [],
   "source": [
    "df.drop(columns=['http_uri'],inplace=True)"
   ]
  },
  {
   "cell_type": "code",
   "execution_count": 15,
   "metadata": {
    "colab": {
     "base_uri": "https://localhost:8080/"
    },
    "id": "ucGEQc6gOgxK",
    "outputId": "46b4275b-29f9-46d0-c7a4-6b6fda3e8334"
   },
   "outputs": [
    {
     "data": {
      "text/plain": [
       "(461043, 42)"
      ]
     },
     "execution_count": 15,
     "metadata": {
      "tags": []
     },
     "output_type": "execute_result"
    }
   ],
   "source": [
    "df.shape"
   ]
  },
  {
   "cell_type": "code",
   "execution_count": 16,
   "metadata": {
    "colab": {
     "base_uri": "https://localhost:8080/"
    },
    "id": "zZ4cq9xM6BQ1",
    "outputId": "f8be7b7c-bb18-425f-9a81-52a50e3d8658"
   },
   "outputs": [
    {
     "data": {
      "text/plain": [
       "-    459749\n",
       "F      1294\n",
       "Name: weird_notice, dtype: int64"
      ]
     },
     "execution_count": 16,
     "metadata": {
      "tags": []
     },
     "output_type": "execute_result"
    }
   ],
   "source": [
    "df.weird_notice.value_counts()"
   ]
  },
  {
   "cell_type": "code",
   "execution_count": 17,
   "metadata": {
    "colab": {
     "base_uri": "https://localhost:8080/"
    },
    "id": "x8MxwBzZNud3",
    "outputId": "7400b4c4-acee-4fb5-b5b8-3d2e9d36b0d9"
   },
   "outputs": [
    {
     "data": {
      "text/plain": [
       "-                                   459749\n",
       "DNS_RR_unknown_type                    753\n",
       "active_connection_reuse                275\n",
       "data_before_established                109\n",
       "bad_UDP_checksum                        68\n",
       "bad_TCP_checksum                        52\n",
       "connection_originator_SYN_ack           20\n",
       "above_hole_data_without_any_acks         6\n",
       "inappropriate_FIN                        3\n",
       "dnp3_corrupt_header_checksum             3\n",
       "possible_split_routing                   3\n",
       "TCP_ack_underflow_or_misorder            2\n",
       "Name: weird_name, dtype: int64"
      ]
     },
     "execution_count": 17,
     "metadata": {
      "tags": []
     },
     "output_type": "execute_result"
    }
   ],
   "source": [
    "df.weird_name.value_counts()"
   ]
  },
  {
   "cell_type": "code",
   "execution_count": 18,
   "metadata": {
    "colab": {
     "base_uri": "https://localhost:8080/"
    },
    "id": "uxMrYRooN2E9",
    "outputId": "dcdb125d-003a-4b94-c93f-eab229bc1b98"
   },
   "outputs": [
    {
     "data": {
      "text/plain": [
       "-     460290\n",
       "46       707\n",
       "48        38\n",
       "43         8\n",
       "Name: weird_addl, dtype: int64"
      ]
     },
     "execution_count": 18,
     "metadata": {
      "tags": []
     },
     "output_type": "execute_result"
    }
   ],
   "source": [
    "df.weird_addl.value_counts()"
   ]
  },
  {
   "cell_type": "code",
   "execution_count": 19,
   "metadata": {
    "colab": {
     "base_uri": "https://localhost:8080/"
    },
    "id": "2glYZpPZN9ku",
    "outputId": "ea7eb3b6-3277-4dc1-ef7f-8b78cd5c630b"
   },
   "outputs": [
    {
     "data": {
      "text/plain": [
       "0          460821\n",
       "2              33\n",
       "1806           14\n",
       "941            12\n",
       "1048576        12\n",
       "            ...  \n",
       "7321            1\n",
       "7323            1\n",
       "728216          1\n",
       "7317            1\n",
       "664             1\n",
       "Name: http_response_body_len, Length: 68, dtype: int64"
      ]
     },
     "execution_count": 19,
     "metadata": {
      "tags": []
     },
     "output_type": "execute_result"
    }
   ],
   "source": [
    "df.http_response_body_len.value_counts()"
   ]
  },
  {
   "cell_type": "code",
   "execution_count": 20,
   "metadata": {
    "colab": {
     "base_uri": "https://localhost:8080/"
    },
    "id": "JbA0_OCCOE5q",
    "outputId": "245c299d-bfbf-4743-ea99-d4aae48295f2"
   },
   "outputs": [
    {
     "data": {
      "text/plain": [
       "0       461029\n",
       "300          6\n",
       "1242         5\n",
       "1272         1\n",
       "1586         1\n",
       "2338         1\n",
       "Name: http_request_body_len, dtype: int64"
      ]
     },
     "execution_count": 20,
     "metadata": {
      "tags": []
     },
     "output_type": "execute_result"
    }
   ],
   "source": [
    "df.http_request_body_len.value_counts()"
   ]
  },
  {
   "cell_type": "code",
   "execution_count": 21,
   "metadata": {
    "colab": {
     "base_uri": "https://localhost:8080/"
    },
    "id": "0vshGebwOQUF",
    "outputId": "3bb242bb-e63d-4134-d686-b44e0d09b139"
   },
   "outputs": [
    {
     "data": {
      "text/plain": [
       "-      460801\n",
       "1.1       242\n",
       "Name: http_version, dtype: int64"
      ]
     },
     "execution_count": 21,
     "metadata": {
      "tags": []
     },
     "output_type": "execute_result"
    }
   ],
   "source": [
    "df.http_version.value_counts()"
   ]
  },
  {
   "cell_type": "code",
   "execution_count": 22,
   "metadata": {
    "colab": {
     "base_uri": "https://localhost:8080/"
    },
    "id": "FEqNOLZmOW1o",
    "outputId": "7b604b7b-1eaa-4515-8384-1e51d2c1e9ee"
   },
   "outputs": [
    {
     "data": {
      "text/plain": [
       "-                                                                                                                                    460809\n",
       "Microsoft-Delivery-Optimization/10.0                                                                                                     57\n",
       "Microsoft-Windows/10.0 UPnP/1.0                                                                                                          32\n",
       "Ruby                                                                                                                                     31\n",
       "DAFUPnP                                                                                                                                  19\n",
       "User-Agent: Microsoft-DLNA DLNADOC/1.50                                                                                                  19\n",
       "Windows-Update-Agent/10.0.10011.16384 Client-Protocol/1.91                                                                               11\n",
       "MICROSOFT_DEVICE_METADATA_RETRIEVAL_CLIENT                                                                                                9\n",
       "Microsoft NCSI                                                                                                                            8\n",
       "Microsoft-Windows/10.0 UPnP/1.0 Microsoft-DLNA DLNADOC/1.50                                                                               8\n",
       "Mozilla/5.0 (X11; Ubuntu; Linux x86_64; rv:66.0) Gecko/20100101 Firefox/66.0                                                              4\n",
       "Microsoft-CryptoAPI/10.0                                                                                                                  4\n",
       "Debian APT-HTTP/1.3 (1.7.4)                                                                                                               4\n",
       "Microsoft-WNS/10.0                                                                                                                        3\n",
       "hacking                                                                                                                                   2\n",
       "Microsoft BITS/7.8                                                                                                                        2\n",
       "sqlmap/1.2#stable (http://sqlmap.org)                                                                                                     2\n",
       "Mozilla/5.0 (iPhone; U; CPU iOS 2_0 like Mac OS X; en-us)                                                                                 1\n",
       "Mozilla/5.0 (Macintosh; Intel Mac OS X 10.11; rv:49.0) Gecko/20100101 Firefox/49.0                                                        1\n",
       "Mozilla/5.0 (X11; Linux x86_64) AppleWebKit/534.30 (KHTML; like Gecko) Version/4.0 Oupeng/10.2.1.86910 Safari/534.30                      1\n",
       "Mozilla/5.0 (Windows NT 6.1; WOW64; rv:49.0) Gecko/20100101 Firefox/49.0                                                                  1\n",
       "Mozilla/5.0 (Macintosh; Intel Mac OS X 10_12_0) AppleWebKit/537.36 (KHTML; like Gecko) Chrome/53.0.2785.143 Safari/537.36                 1\n",
       "Mozilla/5.0 (SMART-TV; Linux; Tizen 2.3) AppleWebkit/538.1 (KHTML; like Gecko) SamsungBrowser/1.0 Safari/538.1                            1\n",
       "Mozilla/5.0 (Windows NT 6.1; rv:21.0) Gecko/20130401 Firefox/21.0                                                                         1\n",
       "Comos/0.9_(robot@xyleme.com)                                                                                                              1\n",
       "Mozilla/5.0 (Windows NT 6.3; WOW64) AppleWebKit/537.36 (KHTML; like Gecko) Chrome/53.0.2785.143 Safari/537.36                             1\n",
       "Debian APT-HTTP/1.3 (1.6.6)                                                                                                               1\n",
       "DonutP; Windows98SE                                                                                                                       1\n",
       "Mozilla/5.0 (X11; U; Linux i686; de-DE; rv:1.6) Gecko/20040207 Firefox/0.8                                                                1\n",
       "Mozilla/5.0 (Windows NT 6.3; rv:36.0) Gecko/20100101 Firefox/36.0                                                                         1\n",
       "Mozilla/1.22 (compatible; MSIE 10.0; Windows 3.1)                                                                                         1\n",
       "Mozilla/5.0 (Windows NT 10.0; Win64; x64) AppleWebKit/537.36 (KHTML; like Gecko) Chrome/64.0.3282.140 Safari/537.36 Edge/18.17763         1\n",
       "Mozilla/4.08 [en] (WinNT; I ;Nav)                                                                                                         1\n",
       "Mozilla/5.0 (compatible; MSIE 10.0; Windows NT 6.1; Trident/4.0; InfoPath.2; SV1; .NET CLR 2.0.50727; WOW64)                              1\n",
       "Mozilla/5.0 (Windows NT 6.1; Win64; x64; rv:5.0) Whistler/20110021 myibrow/5.0.0.0                                                        1\n",
       "DataCha0s/2.0                                                                                                                             1\n",
       "Name: http_user_agent, dtype: int64"
      ]
     },
     "execution_count": 22,
     "metadata": {
      "tags": []
     },
     "output_type": "execute_result"
    }
   ],
   "source": [
    "df.http_user_agent.value_counts()"
   ]
  },
  {
   "cell_type": "code",
   "execution_count": 23,
   "metadata": {
    "colab": {
     "base_uri": "https://localhost:8080/"
    },
    "id": "yJ8X1FrtOgyr",
    "outputId": "f95ea6b9-ae72-474f-c21f-6e4409bec23a"
   },
   "outputs": [
    {
     "data": {
      "text/plain": [
       "0      460801\n",
       "200       160\n",
       "206        53\n",
       "302        13\n",
       "404        11\n",
       "403         2\n",
       "304         2\n",
       "101         1\n",
       "Name: http_status_code, dtype: int64"
      ]
     },
     "execution_count": 23,
     "metadata": {
      "tags": []
     },
     "output_type": "execute_result"
    }
   ],
   "source": [
    "df.http_status_code.value_counts()"
   ]
  },
  {
   "cell_type": "code",
   "execution_count": 24,
   "metadata": {
    "colab": {
     "base_uri": "https://localhost:8080/"
    },
    "id": "54C2_dvqOvBs",
    "outputId": "495b0cec-b5b5-4281-9755-c6955e343bd3"
   },
   "outputs": [
    {
     "data": {
      "text/plain": [
       "normal        300000\n",
       "backdoor       20000\n",
       "xss            20000\n",
       "injection      20000\n",
       "dos            20000\n",
       "ddos           20000\n",
       "scanning       20000\n",
       "password       20000\n",
       "ransomware     20000\n",
       "mitm            1043\n",
       "Name: type, dtype: int64"
      ]
     },
     "execution_count": 24,
     "metadata": {
      "tags": []
     },
     "output_type": "execute_result"
    }
   ],
   "source": [
    "df.type.value_counts()"
   ]
  },
  {
   "cell_type": "code",
   "execution_count": 25,
   "metadata": {
    "colab": {
     "base_uri": "https://localhost:8080/"
    },
    "id": "psdfQwzeO0uJ",
    "outputId": "1e503c4b-4451-460d-daa9-95f1f80f0709"
   },
   "outputs": [
    {
     "data": {
      "text/plain": [
       "-                       461029\n",
       "application/xml              8\n",
       "application/soap+xml         6\n",
       "Name: http_orig_mime_types, dtype: int64"
      ]
     },
     "execution_count": 25,
     "metadata": {
      "tags": []
     },
     "output_type": "execute_result"
    }
   ],
   "source": [
    "df.http_orig_mime_types.value_counts()"
   ]
  },
  {
   "cell_type": "code",
   "execution_count": 26,
   "metadata": {
    "colab": {
     "base_uri": "https://localhost:8080/"
    },
    "id": "wtc6fq7MPCjB",
    "outputId": "c635a9e3-75f2-4010-889f-68072a104f22"
   },
   "outputs": [
    {
     "data": {
      "text/plain": [
       "-                                    460883\n",
       "application/xml                          63\n",
       "text/html                                41\n",
       "image/png                                15\n",
       "application/vnd.ms-cab-compressed        13\n",
       "text/plain                               11\n",
       "application/ocsp-response                 8\n",
       "image/jpeg                                4\n",
       "text/json                                 4\n",
       "application/x-debian-package              1\n",
       "Name: http_resp_mime_types, dtype: int64"
      ]
     },
     "execution_count": 26,
     "metadata": {
      "tags": []
     },
     "output_type": "execute_result"
    }
   ],
   "source": [
    "df.http_resp_mime_types.value_counts()"
   ]
  },
  {
   "cell_type": "code",
   "execution_count": 27,
   "metadata": {
    "colab": {
     "base_uri": "https://localhost:8080/"
    },
    "id": "HXX7QvKJPKCi",
    "outputId": "356be2e6-efc7-40a2-b7d0-e92ac7fbfecc"
   },
   "outputs": [
    {
     "data": {
      "text/plain": [
       "-       460809\n",
       "GET        215\n",
       "POST        15\n",
       "HEAD         4\n",
       "Name: http_method, dtype: int64"
      ]
     },
     "execution_count": 27,
     "metadata": {
      "tags": []
     },
     "output_type": "execute_result"
    }
   ],
   "source": [
    "df.http_method.value_counts()"
   ]
  },
  {
   "cell_type": "code",
   "execution_count": 28,
   "metadata": {
    "colab": {
     "base_uri": "https://localhost:8080/"
    },
    "id": "0lswDfCrPaO_",
    "outputId": "ddfc8194-a101-4cff-bc7b-afd3c59af305"
   },
   "outputs": [
    {
     "data": {
      "text/plain": [
       "-     460796\n",
       "1        214\n",
       "2         25\n",
       "8          1\n",
       "9          1\n",
       "10         1\n",
       "3          1\n",
       "4          1\n",
       "6          1\n",
       "7          1\n",
       "5          1\n",
       "Name: http_trans_depth, dtype: int64"
      ]
     },
     "execution_count": 28,
     "metadata": {
      "tags": []
     },
     "output_type": "execute_result"
    }
   ],
   "source": [
    "df.http_trans_depth.value_counts()"
   ]
  },
  {
   "cell_type": "code",
   "execution_count": 29,
   "metadata": {
    "colab": {
     "base_uri": "https://localhost:8080/"
    },
    "id": "C2ApQyeQPkGr",
    "outputId": "4053490a-842a-4ae1-e003-e5229a8688d8"
   },
   "outputs": [
    {
     "data": {
      "text/plain": [
       "-         460737\n",
       "TLSv12       188\n",
       "TLSv13       116\n",
       "TLSv10         2\n",
       "Name: ssl_version, dtype: int64"
      ]
     },
     "execution_count": 29,
     "metadata": {
      "tags": []
     },
     "output_type": "execute_result"
    }
   ],
   "source": [
    "df.ssl_version.value_counts()"
   ]
  },
  {
   "cell_type": "code",
   "execution_count": 30,
   "metadata": {
    "colab": {
     "base_uri": "https://localhost:8080/"
    },
    "id": "bwr3lVeGPvPX",
    "outputId": "8ad4977e-ad5d-4eae-9758-a3327db766f2"
   },
   "outputs": [
    {
     "data": {
      "text/plain": [
       "-                                          460737\n",
       "TLS_ECDHE_RSA_WITH_AES_128_GCM_SHA256         176\n",
       "TLS_AES_128_GCM_SHA256                        116\n",
       "TLS_ECDHE_RSA_WITH_AES_256_GCM_SHA384          11\n",
       "TLS_ECDHE_RSA_WITH_AES_256_CBC_SHA              2\n",
       "TLS_ECDHE_ECDSA_WITH_AES_128_GCM_SHA256         1\n",
       "Name: ssl_cipher, dtype: int64"
      ]
     },
     "execution_count": 30,
     "metadata": {
      "tags": []
     },
     "output_type": "execute_result"
    }
   ],
   "source": [
    "df.ssl_cipher.value_counts()"
   ]
  },
  {
   "cell_type": "code",
   "execution_count": 31,
   "metadata": {
    "colab": {
     "base_uri": "https://localhost:8080/"
    },
    "id": "f8kRdXrmP2IV",
    "outputId": "75e43e6a-b635-474e-d8a1-f966e99f9cab"
   },
   "outputs": [
    {
     "data": {
      "text/plain": [
       "-    460352\n",
       "F       605\n",
       "T        86\n",
       "Name: ssl_resumed, dtype: int64"
      ]
     },
     "execution_count": 31,
     "metadata": {
      "tags": []
     },
     "output_type": "execute_result"
    }
   ],
   "source": [
    "df.ssl_resumed.value_counts()"
   ]
  },
  {
   "cell_type": "code",
   "execution_count": 32,
   "metadata": {
    "colab": {
     "base_uri": "https://localhost:8080/"
    },
    "id": "ITbCUZmFP7fH",
    "outputId": "7f46d0ae-8812-432b-91f7-8f8568f86bd9"
   },
   "outputs": [
    {
     "data": {
      "text/plain": [
       "-    460352\n",
       "F       596\n",
       "T        95\n",
       "Name: ssl_established, dtype: int64"
      ]
     },
     "execution_count": 32,
     "metadata": {
      "tags": []
     },
     "output_type": "execute_result"
    }
   ],
   "source": [
    "df.ssl_established.value_counts()"
   ]
  },
  {
   "cell_type": "code",
   "execution_count": 33,
   "metadata": {
    "colab": {
     "base_uri": "https://localhost:8080/"
    },
    "id": "Fr4dITzcQcfa",
    "outputId": "1a085ecc-0193-4607-b9b4-2e88615c9f55"
   },
   "outputs": [
    {
     "data": {
      "text/plain": [
       "-                                                                                           461034\n",
       "CN=*.wns.windows.com                                                                             4\n",
       "CN=Mr Shepherd;OU=Security Shepherd Project;O=OWASP;L=Dublin;ST=Ireland;C=IE                     2\n",
       "CN=*.events.data.microsoft.com;OU=Microsoft;O=Microsoft Corporation;L=Redmond;ST=WA;C=US         1\n",
       "CN=sls.update.microsoft.com;OU=DSP;O=Microsoft;L=Redmond;ST=WA;C=US                              1\n",
       "CN=settings-win.data.microsoft.com;OU=WSE;O=Microsoft;L=Redmond;ST=WA;C=US                       1\n",
       "Name: ssl_subject, dtype: int64"
      ]
     },
     "execution_count": 33,
     "metadata": {
      "tags": []
     },
     "output_type": "execute_result"
    }
   ],
   "source": [
    "df.ssl_subject.value_counts()"
   ]
  },
  {
   "cell_type": "code",
   "execution_count": 34,
   "metadata": {
    "colab": {
     "base_uri": "https://localhost:8080/"
    },
    "id": "QBER_OC3Qixm",
    "outputId": "f8c5d006-6a46-4336-83fa-08e9992db50d"
   },
   "outputs": [
    {
     "data": {
      "text/plain": [
       "-                                                                                                461034\n",
       "CN=Microsoft IT TLS CA 5;OU=Microsoft IT;O=Microsoft Corporation;L=Redmond;ST=Washington;C=US         4\n",
       "CN=Microsoft Secure Server CA 2011;O=Microsoft Corporation;L=Redmond;ST=Washington;C=US               2\n",
       "CN=Mr Shepherd;OU=Security Shepherd Project;O=OWASP;L=Dublin;ST=Ireland;C=IE                          2\n",
       "CN=Microsoft Update Secure Server CA 2.1;O=Microsoft Corporation;L=Redmond;ST=Washington;C=US         1\n",
       "Name: ssl_issuer, dtype: int64"
      ]
     },
     "execution_count": 34,
     "metadata": {
      "tags": []
     },
     "output_type": "execute_result"
    }
   ],
   "source": [
    "df.ssl_issuer.value_counts()"
   ]
  },
  {
   "cell_type": "code",
   "execution_count": 35,
   "metadata": {
    "colab": {
     "base_uri": "https://localhost:8080/"
    },
    "id": "RnBOZcMoQp8V",
    "outputId": "049c6397-d4eb-4e68-c755-18eed22626d4"
   },
   "outputs": [
    {
     "data": {
      "text/plain": [
       "-    365158\n",
       "F     89392\n",
       "T      6493\n",
       "Name: dns_rejected, dtype: int64"
      ]
     },
     "execution_count": 35,
     "metadata": {
      "tags": []
     },
     "output_type": "execute_result"
    }
   ],
   "source": [
    "df.dns_rejected.value_counts()\n"
   ]
  },
  {
   "cell_type": "code",
   "execution_count": 36,
   "metadata": {
    "colab": {
     "base_uri": "https://localhost:8080/"
    },
    "id": "TiwRqqKFQ1FR",
    "outputId": "67a89076-5928-46c0-b6ce-e8b50fe25ae1"
   },
   "outputs": [
    {
     "data": {
      "text/plain": [
       "0    448777\n",
       "3     10510\n",
       "5      1187\n",
       "2       565\n",
       "1         4\n",
       "Name: dns_rcode, dtype: int64"
      ]
     },
     "execution_count": 36,
     "metadata": {
      "tags": []
     },
     "output_type": "execute_result"
    }
   ],
   "source": [
    "df.dns_rcode.value_counts()"
   ]
  },
  {
   "cell_type": "code",
   "execution_count": 37,
   "metadata": {
    "colab": {
     "base_uri": "https://localhost:8080/"
    },
    "id": "UPr0Tl48Q8WD",
    "outputId": "69ed8ef5-daca-4149-c60f-08e88389bc26"
   },
   "outputs": [
    {
     "data": {
      "text/plain": [
       "0      366377\n",
       "1       36080\n",
       "12      21932\n",
       "28      20282\n",
       "43       9061\n",
       "255      5082\n",
       "2        1284\n",
       "48        667\n",
       "32        210\n",
       "33         59\n",
       "6           6\n",
       "16          3\n",
       "Name: dns_qtype, dtype: int64"
      ]
     },
     "execution_count": 37,
     "metadata": {
      "tags": []
     },
     "output_type": "execute_result"
    }
   ],
   "source": [
    "df.dns_qtype.value_counts()"
   ]
  },
  {
   "cell_type": "code",
   "execution_count": 38,
   "metadata": {
    "colab": {
     "base_uri": "https://localhost:8080/"
    },
    "id": "fOiDXMBYRClK",
    "outputId": "2c382b40-3282-4947-8a12-29b513c11ae5"
   },
   "outputs": [
    {
     "data": {
      "text/plain": [
       "-                                                                           366019\n",
       "a2z3kk2ebqzso7.iot.ap-southeast-2.amazonaws.com                              13700\n",
       "arpa.whois-servers.net                                                        2198\n",
       "_sleep-proxy._udp.local                                                       2187\n",
       "testphp.vulnweb.com                                                           1848\n",
       "                                                                             ...  \n",
       "193.208.24.253.in-addr.arpa                                                      1\n",
       "d.b.6.c.f.3.e.f.f.f.1.f.2.4.0.0.0.0.0.0.0.0.0.0.0.0.0.0.0.8.e.f.ip6.arpa         1\n",
       "ns1.mentorg.com                                                                  1\n",
       "85.20.114.in-addr.arpa                                                           1\n",
       "254.63.100.19.in-addr.arpa                                                       1\n",
       "Name: dns_query, Length: 14149, dtype: int64"
      ]
     },
     "execution_count": 38,
     "metadata": {
      "tags": []
     },
     "output_type": "execute_result"
    }
   ],
   "source": [
    "df.dns_query.value_counts()"
   ]
  },
  {
   "cell_type": "code",
   "execution_count": 39,
   "metadata": {
    "colab": {
     "base_uri": "https://localhost:8080/"
    },
    "id": "uAY0tobNRHzj",
    "outputId": "d32ccf0d-d808-40e4-ebf3-adf384a45f7b"
   },
   "outputs": [
    {
     "data": {
      "text/plain": [
       "0        366377\n",
       "1         92700\n",
       "32769      1966\n",
       "Name: dns_qclass, dtype: int64"
      ]
     },
     "execution_count": 39,
     "metadata": {
      "tags": []
     },
     "output_type": "execute_result"
    }
   ],
   "source": [
    "df.dns_qclass.value_counts()"
   ]
  },
  {
   "cell_type": "code",
   "execution_count": 40,
   "metadata": {
    "colab": {
     "base_uri": "https://localhost:8080/"
    },
    "id": "5gBys2OiRVwX",
    "outputId": "a9001275-db1a-4fdc-8e44-9d4a33af13e7"
   },
   "outputs": [
    {
     "data": {
      "text/plain": [
       "1        216270\n",
       "0        112544\n",
       "2         40133\n",
       "5         38815\n",
       "6         14619\n",
       "          ...  \n",
       "142           1\n",
       "4237          1\n",
       "3984          1\n",
       "147           1\n",
       "10602         1\n",
       "Name: src_pkts, Length: 414, dtype: int64"
      ]
     },
     "execution_count": 40,
     "metadata": {
      "tags": []
     },
     "output_type": "execute_result"
    }
   ],
   "source": [
    "df.src_pkts.value_counts()"
   ]
  },
  {
   "cell_type": "code",
   "execution_count": 41,
   "metadata": {
    "colab": {
     "base_uri": "https://localhost:8080/"
    },
    "id": "7ovJd1pJRg1V",
    "outputId": "bfc156da-bdd1-4eab-e3e4-76b1991cd6f7"
   },
   "outputs": [
    {
     "data": {
      "text/plain": [
       "0       112544\n",
       "63       34677\n",
       "40       28277\n",
       "48       19614\n",
       "44       18513\n",
       "         ...  \n",
       "1673         1\n",
       "2894         1\n",
       "2234         1\n",
       "5850         1\n",
       "4094         1\n",
       "Name: src_ip_bytes, Length: 4549, dtype: int64"
      ]
     },
     "execution_count": 41,
     "metadata": {
      "tags": []
     },
     "output_type": "execute_result"
    }
   ],
   "source": [
    "df.src_ip_bytes.value_counts()"
   ]
  },
  {
   "cell_type": "code",
   "execution_count": 42,
   "metadata": {
    "colab": {
     "base_uri": "https://localhost:8080/"
    },
    "id": "5Iq4yHgERlLg",
    "outputId": "29b31cec-87d1-4a03-a98c-8a90fab641f2"
   },
   "outputs": [
    {
     "data": {
      "text/plain": [
       "0        233281\n",
       "1        129446\n",
       "2         23239\n",
       "5         16992\n",
       "6         13589\n",
       "          ...  \n",
       "121           1\n",
       "1657          1\n",
       "13951         1\n",
       "122           1\n",
       "89            1\n",
       "Name: dst_pkts, Length: 332, dtype: int64"
      ]
     },
     "execution_count": 42,
     "metadata": {
      "tags": []
     },
     "output_type": "execute_result"
    }
   ],
   "source": [
    "df.dst_pkts.value_counts()"
   ]
  },
  {
   "cell_type": "code",
   "execution_count": 43,
   "metadata": {
    "colab": {
     "base_uri": "https://localhost:8080/"
    },
    "id": "0X7DQMV3RpwV",
    "outputId": "07185e91-483e-4c1f-e951-029cccd4de79"
   },
   "outputs": [
    {
     "data": {
      "text/plain": [
       "0        233281\n",
       "40        45570\n",
       "60        10800\n",
       "354        8341\n",
       "12815      4367\n",
       "          ...  \n",
       "4450          1\n",
       "6499          1\n",
       "48354         1\n",
       "10693         1\n",
       "4337          1\n",
       "Name: dst_ip_bytes, Length: 4577, dtype: int64"
      ]
     },
     "execution_count": 43,
     "metadata": {
      "tags": []
     },
     "output_type": "execute_result"
    }
   ],
   "source": [
    "df.dst_ip_bytes.value_counts()"
   ]
  },
  {
   "cell_type": "code",
   "execution_count": 44,
   "metadata": {
    "colab": {
     "base_uri": "https://localhost:8080/"
    },
    "id": "J99qQNVgRtmm",
    "outputId": "5b9d8a9e-959b-4a84-c1c6-02546072897b"
   },
   "outputs": [
    {
     "data": {
      "text/plain": [
       "53       107747\n",
       "80        86001\n",
       "15600     34151\n",
       "7878      33984\n",
       "10502     24318\n",
       "          ...  \n",
       "49468         1\n",
       "42182         1\n",
       "52599         1\n",
       "49930         1\n",
       "54968         1\n",
       "Name: dst_port, Length: 2666, dtype: int64"
      ]
     },
     "execution_count": 44,
     "metadata": {
      "tags": []
     },
     "output_type": "execute_result"
    }
   ],
   "source": [
    "df.dst_port.value_counts()"
   ]
  },
  {
   "cell_type": "code",
   "execution_count": 45,
   "metadata": {
    "colab": {
     "base_uri": "https://localhost:8080/"
    },
    "id": "w8GQ-BoBRwzO",
    "outputId": "dffb0bd3-de99-4864-aa6b-49f15bcc349d"
   },
   "outputs": [
    {
     "data": {
      "text/plain": [
       "1880     18631\n",
       "43530    17313\n",
       "42100    16688\n",
       "34296    15967\n",
       "53972     8354\n",
       "         ...  \n",
       "10801        1\n",
       "10652        1\n",
       "8605         1\n",
       "17041        1\n",
       "13997        1\n",
       "Name: src_port, Length: 53671, dtype: int64"
      ]
     },
     "execution_count": 45,
     "metadata": {
      "tags": []
     },
     "output_type": "execute_result"
    }
   ],
   "source": [
    "df.src_port.value_counts()"
   ]
  },
  {
   "cell_type": "code",
   "execution_count": 46,
   "metadata": {
    "colab": {
     "base_uri": "https://localhost:8080/"
    },
    "id": "NyAQW9JyR5Hu",
    "outputId": "8ddbb895-acb7-46f3-e34a-43c496cc6ed7"
   },
   "outputs": [
    {
     "data": {
      "text/plain": [
       "SF        123512\n",
       "S0        113495\n",
       "OTH       111842\n",
       "REJ        45036\n",
       "SHR        22053\n",
       "SH         18138\n",
       "S1         13843\n",
       "S3          6642\n",
       "RSTR        2360\n",
       "RSTRH       1724\n",
       "RSTO        1518\n",
       "S2           708\n",
       "RSTOS0       172\n",
       "Name: conn_state, dtype: int64"
      ]
     },
     "execution_count": 46,
     "metadata": {
      "tags": []
     },
     "output_type": "execute_result"
    }
   ],
   "source": [
    "df.conn_state.value_counts()"
   ]
  },
  {
   "cell_type": "code",
   "execution_count": 47,
   "metadata": {
    "colab": {
     "base_uri": "https://localhost:8080/"
    },
    "id": "2oOjV_S4SBEp",
    "outputId": "037148d1-1460-48c8-9ad0-0699535ef84c"
   },
   "outputs": [
    {
     "data": {
      "text/plain": [
       "0            457434\n",
       "1              1218\n",
       "1920            201\n",
       "3441            183\n",
       "2327             77\n",
       "              ...  \n",
       "337942548         1\n",
       "1926              1\n",
       "5764              1\n",
       "49917             1\n",
       "892               1\n",
       "Name: missed_bytes, Length: 929, dtype: int64"
      ]
     },
     "execution_count": 47,
     "metadata": {
      "tags": []
     },
     "output_type": "execute_result"
    }
   ],
   "source": [
    "df.missed_bytes.value_counts()"
   ]
  },
  {
   "cell_type": "code",
   "execution_count": 48,
   "metadata": {
    "colab": {
     "base_uri": "https://localhost:8080/"
    },
    "id": "2hdn9U7KeouP",
    "outputId": "202bcd68-3c19-4240-a22c-3057768ce797"
   },
   "outputs": [
    {
     "data": {
      "text/plain": [
       "normal        300000\n",
       "backdoor       20000\n",
       "xss            20000\n",
       "injection      20000\n",
       "dos            20000\n",
       "ddos           20000\n",
       "scanning       20000\n",
       "password       20000\n",
       "ransomware     20000\n",
       "mitm            1043\n",
       "Name: type, dtype: int64"
      ]
     },
     "execution_count": 48,
     "metadata": {
      "tags": []
     },
     "output_type": "execute_result"
    }
   ],
   "source": [
    "df.type.value_counts()"
   ]
  },
  {
   "cell_type": "code",
   "execution_count": 49,
   "metadata": {
    "id": "6jvMyya6e4uL"
   },
   "outputs": [],
   "source": [
    "label_type=LabelEncoder()\n",
    "df['type']=label_type.fit_transform(df['type'])"
   ]
  },
  {
   "cell_type": "code",
   "execution_count": 50,
   "metadata": {
    "colab": {
     "base_uri": "https://localhost:8080/"
    },
    "id": "wjIg0h2ue-Vn",
    "outputId": "45fa1df1-0257-4f48-d671-b3a0e21d8d22"
   },
   "outputs": [
    {
     "data": {
      "text/plain": [
       "5    300000\n",
       "9     20000\n",
       "8     20000\n",
       "7     20000\n",
       "6     20000\n",
       "3     20000\n",
       "2     20000\n",
       "1     20000\n",
       "0     20000\n",
       "4      1043\n",
       "Name: type, dtype: int64"
      ]
     },
     "execution_count": 50,
     "metadata": {
      "tags": []
     },
     "output_type": "execute_result"
    }
   ],
   "source": [
    "df.type.value_counts()"
   ]
  },
  {
   "cell_type": "code",
   "execution_count": 51,
   "metadata": {
    "id": "aq6xxhpYfBFU"
   },
   "outputs": [],
   "source": [
    "type = {5:0, 4:4 ,2:2, 1:1, 0:5, 3:3, 6:6, 7:7, 8:8, 9:9}\n",
    "df['type']=df['type'].map(type)"
   ]
  },
  {
   "cell_type": "code",
   "execution_count": 52,
   "metadata": {
    "colab": {
     "base_uri": "https://localhost:8080/"
    },
    "id": "f9rF-vnvfO7s",
    "outputId": "f44ef879-f0a2-4a51-e751-1a13e06a9baa"
   },
   "outputs": [
    {
     "data": {
      "text/plain": [
       "0    300000\n",
       "9     20000\n",
       "8     20000\n",
       "7     20000\n",
       "6     20000\n",
       "5     20000\n",
       "3     20000\n",
       "2     20000\n",
       "1     20000\n",
       "4      1043\n",
       "Name: type, dtype: int64"
      ]
     },
     "execution_count": 52,
     "metadata": {
      "tags": []
     },
     "output_type": "execute_result"
    }
   ],
   "source": [
    "df.type.value_counts()"
   ]
  },
  {
   "cell_type": "code",
   "execution_count": 53,
   "metadata": {
    "id": "RQlhGj-efRZz"
   },
   "outputs": [],
   "source": [
    "df.drop(columns=['http_orig_mime_types' ,'http_resp_mime_types','http_method','ssl_subject','ssl_issuer'],inplace=True)"
   ]
  },
  {
   "cell_type": "code",
   "execution_count": 54,
   "metadata": {
    "colab": {
     "base_uri": "https://localhost:8080/"
    },
    "id": "nG6pMJ9lgMUn",
    "outputId": "dad26d3c-47c9-4c8e-f481-b88025335c11"
   },
   "outputs": [
    {
     "data": {
      "text/plain": [
       "(461043, 37)"
      ]
     },
     "execution_count": 54,
     "metadata": {
      "tags": []
     },
     "output_type": "execute_result"
    }
   ],
   "source": [
    "df.shape"
   ]
  },
  {
   "cell_type": "code",
   "execution_count": 55,
   "metadata": {
    "colab": {
     "base_uri": "https://localhost:8080/",
     "height": 1000
    },
    "id": "RoMPYWLvgOWH",
    "outputId": "01d071e9-345b-4bf4-ada3-173b58dcaff2"
   },
   "outputs": [
    {
     "data": {
      "text/plain": [
       "<matplotlib.axes._subplots.AxesSubplot at 0x7f3a763a7080>"
      ]
     },
     "execution_count": 55,
     "metadata": {
      "tags": []
     },
     "output_type": "execute_result"
    },
    {
     "data": {
      "image/png": "[encoded data removed]",
      "text/plain": [
       "<Figure size 2880x2880 with 2 Axes>"
      ]
     },
     "metadata": {
      "needs_background": "light",
      "tags": []
     },
     "output_type": "display_data"
    }
   ],
   "source": [
    "plt.figure(figsize=(40,40))\n",
    "sns.heatmap(df.corr(),annot=True,cmap='plasma')"
   ]
  },
  {
   "cell_type": "code",
   "execution_count": 56,
   "metadata": {
    "id": "MLXjX4TVgZJ1"
   },
   "outputs": [],
   "source": [
    "df.drop(columns=['duration','src_ip','dst_ip'],inplace=True)"
   ]
  },
  {
   "cell_type": "code",
   "execution_count": 57,
   "metadata": {
    "colab": {
     "base_uri": "https://localhost:8080/"
    },
    "id": "VCE1j1zsh6CU",
    "outputId": "a4ee16d3-1e8a-426b-e490-80754ef41ccc"
   },
   "outputs": [
    {
     "data": {
      "text/plain": [
       "(461043, 34)"
      ]
     },
     "execution_count": 57,
     "metadata": {
      "tags": []
     },
     "output_type": "execute_result"
    }
   ],
   "source": [
    "df.shape"
   ]
  },
  {
   "cell_type": "code",
   "execution_count": 58,
   "metadata": {
    "colab": {
     "base_uri": "https://localhost:8080/"
    },
    "id": "XlNQFRtWh-LM",
    "outputId": "1365c82f-eb2a-4583-f94e-2c3edc9465f7"
   },
   "outputs": [
    {
     "data": {
      "text/plain": [
       "-                                   459749\n",
       "DNS_RR_unknown_type                    753\n",
       "active_connection_reuse                275\n",
       "data_before_established                109\n",
       "bad_UDP_checksum                        68\n",
       "bad_TCP_checksum                        52\n",
       "connection_originator_SYN_ack           20\n",
       "above_hole_data_without_any_acks         6\n",
       "inappropriate_FIN                        3\n",
       "dnp3_corrupt_header_checksum             3\n",
       "possible_split_routing                   3\n",
       "TCP_ack_underflow_or_misorder            2\n",
       "Name: weird_name, dtype: int64"
      ]
     },
     "execution_count": 58,
     "metadata": {
      "tags": []
     },
     "output_type": "execute_result"
    }
   ],
   "source": [
    "df.weird_name.value_counts()"
   ]
  },
  {
   "cell_type": "code",
   "execution_count": 59,
   "metadata": {
    "colab": {
     "base_uri": "https://localhost:8080/"
    },
    "id": "gaYJjlmvifzy",
    "outputId": "4ea002ce-e945-42d8-db21-9d272790ed3f"
   },
   "outputs": [
    {
     "data": {
      "text/plain": [
       "-    459749\n",
       "F      1294\n",
       "Name: weird_notice, dtype: int64"
      ]
     },
     "execution_count": 59,
     "metadata": {
      "tags": []
     },
     "output_type": "execute_result"
    }
   ],
   "source": [
    "df.weird_notice.value_counts()"
   ]
  },
  {
   "cell_type": "code",
   "execution_count": 60,
   "metadata": {
    "id": "4pgMTYmIioCu"
   },
   "outputs": [],
   "source": [
    "df.drop(columns=['weird_addl','weird_name','weird_notice'],inplace=True)"
   ]
  },
  {
   "cell_type": "code",
   "execution_count": 61,
   "metadata": {
    "colab": {
     "base_uri": "https://localhost:8080/"
    },
    "id": "6uUCkloTi36a",
    "outputId": "956b7405-c610-4a2b-b851-8d2d29b1171a"
   },
   "outputs": [
    {
     "data": {
      "text/plain": [
       "(461043, 31)"
      ]
     },
     "execution_count": 61,
     "metadata": {
      "tags": []
     },
     "output_type": "execute_result"
    }
   ],
   "source": [
    "df.shape"
   ]
  },
  {
   "cell_type": "code",
   "execution_count": 62,
   "metadata": {
    "id": "KomMt9jqi5_K"
   },
   "outputs": [],
   "source": [
    "df.drop(columns=['ssl_version','ssl_cipher','http_version'],inplace=True)"
   ]
  },
  {
   "cell_type": "code",
   "execution_count": 63,
   "metadata": {
    "colab": {
     "base_uri": "https://localhost:8080/"
    },
    "id": "AJxqQ48ajzcF",
    "outputId": "3831f73a-3ad5-4c9d-bfe3-6912e40ad821"
   },
   "outputs": [
    {
     "data": {
      "text/plain": [
       "(461043, 28)"
      ]
     },
     "execution_count": 63,
     "metadata": {
      "tags": []
     },
     "output_type": "execute_result"
    }
   ],
   "source": [
    "df.shape"
   ]
  },
  {
   "cell_type": "code",
   "execution_count": 64,
   "metadata": {
    "colab": {
     "base_uri": "https://localhost:8080/"
    },
    "id": "77d0mqzrh8DI",
    "outputId": "b7db92bb-9f69-4667-c8e2-4092189e4a30"
   },
   "outputs": [
    {
     "data": {
      "text/plain": [
       "-             280216\n",
       "dns           116480\n",
       "http           60720\n",
       "ssl             2070\n",
       "ftp             1065\n",
       "gssapi           184\n",
       "dce_rpc          136\n",
       "smb              108\n",
       "dhcp              46\n",
       "smb;gssapi        18\n",
       "Name: service, dtype: int64"
      ]
     },
     "execution_count": 64,
     "metadata": {
      "tags": []
     },
     "output_type": "execute_result"
    }
   ],
   "source": [
    "df.service.value_counts()"
   ]
  },
  {
   "cell_type": "code",
   "execution_count": 65,
   "metadata": {
    "id": "GHvdqY-y1xg0"
   },
   "outputs": [],
   "source": [
    "df.drop(columns=['dns_query','http_user_agent'],inplace=True)"
   ]
  },
  {
   "cell_type": "code",
   "execution_count": 66,
   "metadata": {
    "colab": {
     "base_uri": "https://localhost:8080/"
    },
    "id": "hUTKvohV_4Jq",
    "outputId": "d23303be-32e6-4148-d9b2-54bc412ab463"
   },
   "outputs": [
    {
     "name": "stdout",
     "output_type": "stream",
     "text": [
      "<class 'pandas.core.frame.DataFrame'>\n",
      "RangeIndex: 461043 entries, 0 to 461042\n",
      "Data columns (total 26 columns):\n",
      " #   Column                  Non-Null Count   Dtype \n",
      "---  ------                  --------------   ----- \n",
      " 0   src_port                461043 non-null  int64 \n",
      " 1   dst_port                461043 non-null  int64 \n",
      " 2   proto                   461043 non-null  object\n",
      " 3   service                 461043 non-null  object\n",
      " 4   src_bytes               461043 non-null  int64 \n",
      " 5   dst_bytes               461043 non-null  int64 \n",
      " 6   conn_state              461043 non-null  object\n",
      " 7   missed_bytes            461043 non-null  int64 \n",
      " 8   src_pkts                461043 non-null  int64 \n",
      " 9   src_ip_bytes            461043 non-null  int64 \n",
      " 10  dst_pkts                461043 non-null  int64 \n",
      " 11  dst_ip_bytes            461043 non-null  int64 \n",
      " 12  dns_qclass              461043 non-null  int64 \n",
      " 13  dns_qtype               461043 non-null  int64 \n",
      " 14  dns_rcode               461043 non-null  int64 \n",
      " 15  dns_AA                  461043 non-null  object\n",
      " 16  dns_RD                  461043 non-null  object\n",
      " 17  dns_RA                  461043 non-null  object\n",
      " 18  dns_rejected            461043 non-null  object\n",
      " 19  ssl_resumed             461043 non-null  object\n",
      " 20  ssl_established         461043 non-null  object\n",
      " 21  http_trans_depth        461043 non-null  object\n",
      " 22  http_request_body_len   461043 non-null  int64 \n",
      " 23  http_response_body_len  461043 non-null  int64 \n",
      " 24  http_status_code        461043 non-null  int64 \n",
      " 25  type                    461043 non-null  int64 \n",
      "dtypes: int64(16), object(10)\n",
      "memory usage: 91.5+ MB\n"
     ]
    }
   ],
   "source": [
    "df.info()"
   ]
  },
  {
   "cell_type": "code",
   "execution_count": 67,
   "metadata": {
    "colab": {
     "base_uri": "https://localhost:8080/"
    },
    "id": "x63d9NOZAX4N",
    "outputId": "7dcfe936-6515-4eb8-e84a-db9340df916c"
   },
   "outputs": [
    {
     "data": {
      "text/plain": [
       "tcp     282076\n",
       "udp     173087\n",
       "icmp      5880\n",
       "Name: proto, dtype: int64"
      ]
     },
     "execution_count": 67,
     "metadata": {
      "tags": []
     },
     "output_type": "execute_result"
    }
   ],
   "source": [
    "df.proto.value_counts()"
   ]
  },
  {
   "cell_type": "code",
   "execution_count": 68,
   "metadata": {
    "id": "IKIduF_XB7QF"
   },
   "outputs": [],
   "source": [
    "label_en=LabelEncoder()\n",
    "df['proto']=label_en.fit_transform(df['proto'])\n",
    "df['service']=label_en.fit_transform(df['service'])\n",
    "df['conn_state']=label_en.fit_transform(df['conn_state'])"
   ]
  },
  {
   "cell_type": "code",
   "execution_count": 69,
   "metadata": {
    "colab": {
     "base_uri": "https://localhost:8080/",
     "height": 216
    },
    "id": "cDqU8d18DTio",
    "outputId": "3c9b27d6-e3e6-4fd4-aa04-afed8f5977a2"
   },
   "outputs": [
    {
     "data": {
      "text/html": [
       "<div>\n",
       "<style scoped>\n",
       "    .dataframe tbody tr th:only-of-type {\n",
       "        vertical-align: middle;\n",
       "    }\n",
       "\n",
       "    .dataframe tbody tr th {\n",
       "        vertical-align: top;\n",
       "    }\n",
       "\n",
       "    .dataframe thead th {\n",
       "        text-align: right;\n",
       "    }\n",
       "</style>\n",
       "<table border=\"1\" class=\"dataframe\">\n",
       "  <thead>\n",
       "    <tr style=\"text-align: right;\">\n",
       "      <th></th>\n",
       "      <th>src_port</th>\n",
       "      <th>dst_port</th>\n",
       "      <th>proto</th>\n",
       "      <th>service</th>\n",
       "      <th>src_bytes</th>\n",
       "      <th>dst_bytes</th>\n",
       "      <th>conn_state</th>\n",
       "      <th>missed_bytes</th>\n",
       "      <th>src_pkts</th>\n",
       "      <th>src_ip_bytes</th>\n",
       "      <th>dst_pkts</th>\n",
       "      <th>dst_ip_bytes</th>\n",
       "      <th>dns_qclass</th>\n",
       "      <th>dns_qtype</th>\n",
       "      <th>dns_rcode</th>\n",
       "      <th>dns_AA</th>\n",
       "      <th>dns_RD</th>\n",
       "      <th>dns_RA</th>\n",
       "      <th>dns_rejected</th>\n",
       "      <th>ssl_resumed</th>\n",
       "      <th>ssl_established</th>\n",
       "      <th>http_trans_depth</th>\n",
       "      <th>http_request_body_len</th>\n",
       "      <th>http_response_body_len</th>\n",
       "      <th>http_status_code</th>\n",
       "      <th>type</th>\n",
       "    </tr>\n",
       "  </thead>\n",
       "  <tbody>\n",
       "    <tr>\n",
       "      <th>0</th>\n",
       "      <td>1883</td>\n",
       "      <td>52976</td>\n",
       "      <td>1</td>\n",
       "      <td>0</td>\n",
       "      <td>1762852</td>\n",
       "      <td>41933215</td>\n",
       "      <td>0</td>\n",
       "      <td>0</td>\n",
       "      <td>252181</td>\n",
       "      <td>14911156</td>\n",
       "      <td>2</td>\n",
       "      <td>236</td>\n",
       "      <td>0</td>\n",
       "      <td>0</td>\n",
       "      <td>0</td>\n",
       "      <td>-</td>\n",
       "      <td>-</td>\n",
       "      <td>-</td>\n",
       "      <td>-</td>\n",
       "      <td>-</td>\n",
       "      <td>-</td>\n",
       "      <td>-</td>\n",
       "      <td>0</td>\n",
       "      <td>0</td>\n",
       "      <td>0</td>\n",
       "      <td>0</td>\n",
       "    </tr>\n",
       "    <tr>\n",
       "      <th>1</th>\n",
       "      <td>47260</td>\n",
       "      <td>15600</td>\n",
       "      <td>2</td>\n",
       "      <td>0</td>\n",
       "      <td>0</td>\n",
       "      <td>0</td>\n",
       "      <td>6</td>\n",
       "      <td>0</td>\n",
       "      <td>1</td>\n",
       "      <td>63</td>\n",
       "      <td>0</td>\n",
       "      <td>0</td>\n",
       "      <td>0</td>\n",
       "      <td>0</td>\n",
       "      <td>0</td>\n",
       "      <td>-</td>\n",
       "      <td>-</td>\n",
       "      <td>-</td>\n",
       "      <td>-</td>\n",
       "      <td>-</td>\n",
       "      <td>-</td>\n",
       "      <td>-</td>\n",
       "      <td>0</td>\n",
       "      <td>0</td>\n",
       "      <td>0</td>\n",
       "      <td>0</td>\n",
       "    </tr>\n",
       "    <tr>\n",
       "      <th>2</th>\n",
       "      <td>1880</td>\n",
       "      <td>51782</td>\n",
       "      <td>1</td>\n",
       "      <td>0</td>\n",
       "      <td>0</td>\n",
       "      <td>0</td>\n",
       "      <td>0</td>\n",
       "      <td>0</td>\n",
       "      <td>0</td>\n",
       "      <td>0</td>\n",
       "      <td>0</td>\n",
       "      <td>0</td>\n",
       "      <td>0</td>\n",
       "      <td>0</td>\n",
       "      <td>0</td>\n",
       "      <td>-</td>\n",
       "      <td>-</td>\n",
       "      <td>-</td>\n",
       "      <td>-</td>\n",
       "      <td>-</td>\n",
       "      <td>-</td>\n",
       "      <td>-</td>\n",
       "      <td>0</td>\n",
       "      <td>0</td>\n",
       "      <td>0</td>\n",
       "      <td>0</td>\n",
       "    </tr>\n",
       "    <tr>\n",
       "      <th>3</th>\n",
       "      <td>34296</td>\n",
       "      <td>10502</td>\n",
       "      <td>1</td>\n",
       "      <td>0</td>\n",
       "      <td>0</td>\n",
       "      <td>0</td>\n",
       "      <td>0</td>\n",
       "      <td>0</td>\n",
       "      <td>0</td>\n",
       "      <td>0</td>\n",
       "      <td>0</td>\n",
       "      <td>0</td>\n",
       "      <td>0</td>\n",
       "      <td>0</td>\n",
       "      <td>0</td>\n",
       "      <td>-</td>\n",
       "      <td>-</td>\n",
       "      <td>-</td>\n",
       "      <td>-</td>\n",
       "      <td>-</td>\n",
       "      <td>-</td>\n",
       "      <td>-</td>\n",
       "      <td>0</td>\n",
       "      <td>0</td>\n",
       "      <td>0</td>\n",
       "      <td>0</td>\n",
       "    </tr>\n",
       "    <tr>\n",
       "      <th>4</th>\n",
       "      <td>46608</td>\n",
       "      <td>53</td>\n",
       "      <td>2</td>\n",
       "      <td>3</td>\n",
       "      <td>0</td>\n",
       "      <td>298</td>\n",
       "      <td>12</td>\n",
       "      <td>0</td>\n",
       "      <td>0</td>\n",
       "      <td>0</td>\n",
       "      <td>2</td>\n",
       "      <td>354</td>\n",
       "      <td>0</td>\n",
       "      <td>0</td>\n",
       "      <td>0</td>\n",
       "      <td>-</td>\n",
       "      <td>-</td>\n",
       "      <td>-</td>\n",
       "      <td>-</td>\n",
       "      <td>-</td>\n",
       "      <td>-</td>\n",
       "      <td>-</td>\n",
       "      <td>0</td>\n",
       "      <td>0</td>\n",
       "      <td>0</td>\n",
       "      <td>0</td>\n",
       "    </tr>\n",
       "  </tbody>\n",
       "</table>\n",
       "</div>"
      ],
      "text/plain": [
       "   src_port  dst_port  proto  ...  http_response_body_len  http_status_code  type\n",
       "0      1883     52976      1  ...                       0                 0     0\n",
       "1     47260     15600      2  ...                       0                 0     0\n",
       "2      1880     51782      1  ...                       0                 0     0\n",
       "3     34296     10502      1  ...                       0                 0     0\n",
       "4     46608        53      2  ...                       0                 0     0\n",
       "\n",
       "[5 rows x 26 columns]"
      ]
     },
     "execution_count": 69,
     "metadata": {
      "tags": []
     },
     "output_type": "execute_result"
    }
   ],
   "source": [
    "df.head()"
   ]
  },
  {
   "cell_type": "code",
   "execution_count": 70,
   "metadata": {
    "colab": {
     "base_uri": "https://localhost:8080/"
    },
    "id": "ZGCNN5HODVoR",
    "outputId": "13c5f889-716a-4636-b066-3257746d0b19"
   },
   "outputs": [
    {
     "data": {
      "text/plain": [
       "1    282076\n",
       "2    173087\n",
       "0      5880\n",
       "Name: proto, dtype: int64"
      ]
     },
     "execution_count": 70,
     "metadata": {
      "tags": []
     },
     "output_type": "execute_result"
    }
   ],
   "source": [
    "df.proto.value_counts()"
   ]
  },
  {
   "cell_type": "code",
   "execution_count": 71,
   "metadata": {
    "colab": {
     "base_uri": "https://localhost:8080/"
    },
    "id": "CKu4nIdzDZw_",
    "outputId": "66224338-f2b6-4948-f100-5ac6be5de3b0"
   },
   "outputs": [
    {
     "data": {
      "text/plain": [
       "0    280216\n",
       "3    116480\n",
       "6     60720\n",
       "9      2070\n",
       "4      1065\n",
       "5       184\n",
       "1       136\n",
       "7       108\n",
       "2        46\n",
       "8        18\n",
       "Name: service, dtype: int64"
      ]
     },
     "execution_count": 71,
     "metadata": {
      "tags": []
     },
     "output_type": "execute_result"
    }
   ],
   "source": [
    "df.service.value_counts()"
   ]
  },
  {
   "cell_type": "code",
   "execution_count": 72,
   "metadata": {
    "colab": {
     "base_uri": "https://localhost:8080/"
    },
    "id": "6uf2bt6_DfOy",
    "outputId": "69c08dbf-658d-4e3b-932d-b084ea26e827"
   },
   "outputs": [
    {
     "data": {
      "text/plain": [
       "10    123512\n",
       "6     113495\n",
       "0     111842\n",
       "1      45036\n",
       "12     22053\n",
       "11     18138\n",
       "7      13843\n",
       "9       6642\n",
       "4       2360\n",
       "5       1724\n",
       "2       1518\n",
       "8        708\n",
       "3        172\n",
       "Name: conn_state, dtype: int64"
      ]
     },
     "execution_count": 72,
     "metadata": {
      "tags": []
     },
     "output_type": "execute_result"
    }
   ],
   "source": [
    "df.conn_state.value_counts()"
   ]
  },
  {
   "cell_type": "code",
   "execution_count": 73,
   "metadata": {
    "colab": {
     "base_uri": "https://localhost:8080/"
    },
    "id": "EcOodwBcDi6e",
    "outputId": "49394dff-9ecd-4fa4-e711-1ddc13aa4c71"
   },
   "outputs": [
    {
     "name": "stdout",
     "output_type": "stream",
     "text": [
      "<class 'pandas.core.frame.DataFrame'>\n",
      "RangeIndex: 461043 entries, 0 to 461042\n",
      "Data columns (total 26 columns):\n",
      " #   Column                  Non-Null Count   Dtype \n",
      "---  ------                  --------------   ----- \n",
      " 0   src_port                461043 non-null  int64 \n",
      " 1   dst_port                461043 non-null  int64 \n",
      " 2   proto                   461043 non-null  int64 \n",
      " 3   service                 461043 non-null  int64 \n",
      " 4   src_bytes               461043 non-null  int64 \n",
      " 5   dst_bytes               461043 non-null  int64 \n",
      " 6   conn_state              461043 non-null  int64 \n",
      " 7   missed_bytes            461043 non-null  int64 \n",
      " 8   src_pkts                461043 non-null  int64 \n",
      " 9   src_ip_bytes            461043 non-null  int64 \n",
      " 10  dst_pkts                461043 non-null  int64 \n",
      " 11  dst_ip_bytes            461043 non-null  int64 \n",
      " 12  dns_qclass              461043 non-null  int64 \n",
      " 13  dns_qtype               461043 non-null  int64 \n",
      " 14  dns_rcode               461043 non-null  int64 \n",
      " 15  dns_AA                  461043 non-null  object\n",
      " 16  dns_RD                  461043 non-null  object\n",
      " 17  dns_RA                  461043 non-null  object\n",
      " 18  dns_rejected            461043 non-null  object\n",
      " 19  ssl_resumed             461043 non-null  object\n",
      " 20  ssl_established         461043 non-null  object\n",
      " 21  http_trans_depth        461043 non-null  object\n",
      " 22  http_request_body_len   461043 non-null  int64 \n",
      " 23  http_response_body_len  461043 non-null  int64 \n",
      " 24  http_status_code        461043 non-null  int64 \n",
      " 25  type                    461043 non-null  int64 \n",
      "dtypes: int64(19), object(7)\n",
      "memory usage: 91.5+ MB\n"
     ]
    }
   ],
   "source": [
    "df.info()"
   ]
  },
  {
   "cell_type": "code",
   "execution_count": 74,
   "metadata": {
    "colab": {
     "base_uri": "https://localhost:8080/",
     "height": 1000
    },
    "id": "UaMCmNnODl8A",
    "outputId": "7044ee00-ef80-419d-c292-9a3b6008ff11"
   },
   "outputs": [
    {
     "data": {
      "text/plain": [
       "<matplotlib.axes._subplots.AxesSubplot at 0x7f3a73a3af98>"
      ]
     },
     "execution_count": 74,
     "metadata": {
      "tags": []
     },
     "output_type": "execute_result"
    },
    {
     "data": {
      "image/png": "[encoded data removed]",
      "text/plain": [
       "<Figure size 2880x2880 with 2 Axes>"
      ]
     },
     "metadata": {
      "needs_background": "light",
      "tags": []
     },
     "output_type": "display_data"
    }
   ],
   "source": [
    "plt.figure(figsize=(40,40))\n",
    "sns.heatmap(df.corr(),annot=True,cmap='plasma')"
   ]
  },
  {
   "cell_type": "code",
   "execution_count": 75,
   "metadata": {
    "colab": {
     "base_uri": "https://localhost:8080/"
    },
    "id": "75XFv3mcNmEJ",
    "outputId": "695b7106-bfc3-41c0-9f15-4eebeafda8ea"
   },
   "outputs": [
    {
     "data": {
      "text/plain": [
       "array(['-', 'F', 'T'], dtype=object)"
      ]
     },
     "execution_count": 75,
     "metadata": {
      "tags": []
     },
     "output_type": "execute_result"
    }
   ],
   "source": [
    "df.dns_AA.unique()"
   ]
  },
  {
   "cell_type": "code",
   "execution_count": 76,
   "metadata": {
    "colab": {
     "base_uri": "https://localhost:8080/"
    },
    "id": "RrFH_JbyFTa-",
    "outputId": "2d8f7fb4-8b92-4d6c-d64c-403d27cc6dee"
   },
   "outputs": [
    {
     "data": {
      "text/plain": [
       "array(['-', 'F', 'T'], dtype=object)"
      ]
     },
     "execution_count": 76,
     "metadata": {
      "tags": []
     },
     "output_type": "execute_result"
    }
   ],
   "source": [
    "df.dns_RD.unique()"
   ]
  },
  {
   "cell_type": "code",
   "execution_count": 78,
   "metadata": {
    "colab": {
     "base_uri": "https://localhost:8080/"
    },
    "id": "HVtMDO3MFXWp",
    "outputId": "e0b3d7f9-1e00-42fb-9b45-27426f211edf"
   },
   "outputs": [
    {
     "data": {
      "text/plain": [
       "array(['-', 'F', 'T'], dtype=object)"
      ]
     },
     "execution_count": 78,
     "metadata": {
      "tags": []
     },
     "output_type": "execute_result"
    }
   ],
   "source": [
    "df.dns_RA.unique()"
   ]
  },
  {
   "cell_type": "code",
   "execution_count": 79,
   "metadata": {
    "colab": {
     "base_uri": "https://localhost:8080/"
    },
    "id": "jRd-rvmpF5m5",
    "outputId": "83b7ed5e-622c-416e-dc44-a6970cd88d61"
   },
   "outputs": [
    {
     "data": {
      "text/plain": [
       "array(['-', 'F', 'T'], dtype=object)"
      ]
     },
     "execution_count": 79,
     "metadata": {
      "tags": []
     },
     "output_type": "execute_result"
    }
   ],
   "source": [
    "df.dns_rejected.unique()"
   ]
  },
  {
   "cell_type": "code",
   "execution_count": 81,
   "metadata": {
    "colab": {
     "base_uri": "https://localhost:8080/"
    },
    "id": "S2BW9pfwF-Ej",
    "outputId": "a36383a4-b569-4c74-c58f-1e15dc3a2076"
   },
   "outputs": [
    {
     "data": {
      "text/plain": [
       "array(['-', 'F', 'T'], dtype=object)"
      ]
     },
     "execution_count": 81,
     "metadata": {
      "tags": []
     },
     "output_type": "execute_result"
    }
   ],
   "source": [
    "df.ssl_resumed.unique()"
   ]
  },
  {
   "cell_type": "code",
   "execution_count": 82,
   "metadata": {
    "id": "ndDW-1s3GDWi"
   },
   "outputs": [],
   "source": [
    "dict ={'-':0, 'T':1, 'F':2}\n",
    "df['dns_AA']=df['dns_AA'].map(dict)\n",
    "df['dns_RD']=df['dns_RD'].map(dict)\n",
    "df['dns_RA']=df['dns_RA'].map(dict)\n",
    "df['dns_rejected']=df['dns_rejected'].map(dict)\n",
    "df['ssl_resumed']=df['ssl_resumed'].map(dict)\n",
    "df['ssl_established']=df['ssl_established'].map(dict)\n"
   ]
  },
  {
   "cell_type": "code",
   "execution_count": 83,
   "metadata": {
    "colab": {
     "base_uri": "https://localhost:8080/"
    },
    "id": "fq2d6kt9HYgU",
    "outputId": "df4534b6-fc90-49d3-8457-8157476a2a3f"
   },
   "outputs": [
    {
     "name": "stdout",
     "output_type": "stream",
     "text": [
      "<class 'pandas.core.frame.DataFrame'>\n",
      "RangeIndex: 461043 entries, 0 to 461042\n",
      "Data columns (total 26 columns):\n",
      " #   Column                  Non-Null Count   Dtype \n",
      "---  ------                  --------------   ----- \n",
      " 0   src_port                461043 non-null  int64 \n",
      " 1   dst_port                461043 non-null  int64 \n",
      " 2   proto                   461043 non-null  int64 \n",
      " 3   service                 461043 non-null  int64 \n",
      " 4   src_bytes               461043 non-null  int64 \n",
      " 5   dst_bytes               461043 non-null  int64 \n",
      " 6   conn_state              461043 non-null  int64 \n",
      " 7   missed_bytes            461043 non-null  int64 \n",
      " 8   src_pkts                461043 non-null  int64 \n",
      " 9   src_ip_bytes            461043 non-null  int64 \n",
      " 10  dst_pkts                461043 non-null  int64 \n",
      " 11  dst_ip_bytes            461043 non-null  int64 \n",
      " 12  dns_qclass              461043 non-null  int64 \n",
      " 13  dns_qtype               461043 non-null  int64 \n",
      " 14  dns_rcode               461043 non-null  int64 \n",
      " 15  dns_AA                  461043 non-null  int64 \n",
      " 16  dns_RD                  461043 non-null  int64 \n",
      " 17  dns_RA                  461043 non-null  int64 \n",
      " 18  dns_rejected            461043 non-null  int64 \n",
      " 19  ssl_resumed             461043 non-null  int64 \n",
      " 20  ssl_established         461043 non-null  int64 \n",
      " 21  http_trans_depth        461043 non-null  object\n",
      " 22  http_request_body_len   461043 non-null  int64 \n",
      " 23  http_response_body_len  461043 non-null  int64 \n",
      " 24  http_status_code        461043 non-null  int64 \n",
      " 25  type                    461043 non-null  int64 \n",
      "dtypes: int64(25), object(1)\n",
      "memory usage: 91.5+ MB\n"
     ]
    }
   ],
   "source": [
    "df.info()"
   ]
  },
  {
   "cell_type": "code",
   "execution_count": 84,
   "metadata": {
    "colab": {
     "base_uri": "https://localhost:8080/"
    },
    "id": "fS68VWMoHag4",
    "outputId": "1b3e188e-f78c-474b-8454-bce4b962b026"
   },
   "outputs": [
    {
     "data": {
      "text/plain": [
       "0    365158\n",
       "2     81279\n",
       "1     14606\n",
       "Name: dns_AA, dtype: int64"
      ]
     },
     "execution_count": 84,
     "metadata": {
      "tags": []
     },
     "output_type": "execute_result"
    }
   ],
   "source": [
    "df.dns_AA.value_counts()"
   ]
  },
  {
   "cell_type": "code",
   "execution_count": 85,
   "metadata": {
    "colab": {
     "base_uri": "https://localhost:8080/"
    },
    "id": "i2bGLFwlHfj6",
    "outputId": "b0e0411c-38be-49f7-fcce-7062270dbbaf"
   },
   "outputs": [
    {
     "data": {
      "text/plain": [
       "array(['-', '1', '2', '10', '3', '4', '5', '6', '7', '8', '9'],\n",
       "      dtype=object)"
      ]
     },
     "execution_count": 85,
     "metadata": {
      "tags": []
     },
     "output_type": "execute_result"
    }
   ],
   "source": [
    "df.http_trans_depth.unique()"
   ]
  },
  {
   "cell_type": "code",
   "execution_count": 86,
   "metadata": {
    "id": "-rtMheXjIx4H"
   },
   "outputs": [],
   "source": [
    "depth= {'-':0, '1':1,'2':2, '3':3,'4':4, '5':5, '6':6,'7':7, '8':8, '9':9, '10':10}\n",
    "df['http_trans_depth']=df['http_trans_depth'].map(depth)"
   ]
  },
  {
   "cell_type": "code",
   "execution_count": 87,
   "metadata": {
    "colab": {
     "base_uri": "https://localhost:8080/"
    },
    "id": "sfE1miU4JSCv",
    "outputId": "a792f9ce-b9cd-4283-e10f-21935d121608"
   },
   "outputs": [
    {
     "data": {
      "text/plain": [
       "array([ 0,  1,  2, 10,  3,  4,  5,  6,  7,  8,  9])"
      ]
     },
     "execution_count": 87,
     "metadata": {
      "tags": []
     },
     "output_type": "execute_result"
    }
   ],
   "source": [
    "df.http_trans_depth.unique()"
   ]
  },
  {
   "cell_type": "code",
   "execution_count": 88,
   "metadata": {
    "colab": {
     "base_uri": "https://localhost:8080/"
    },
    "id": "bjn2ptMLOlV3",
    "outputId": "123e31b4-f8be-4836-c75d-1afb83ea6fad"
   },
   "outputs": [
    {
     "name": "stdout",
     "output_type": "stream",
     "text": [
      "<class 'pandas.core.frame.DataFrame'>\n",
      "RangeIndex: 461043 entries, 0 to 461042\n",
      "Data columns (total 26 columns):\n",
      " #   Column                  Non-Null Count   Dtype\n",
      "---  ------                  --------------   -----\n",
      " 0   src_port                461043 non-null  int64\n",
      " 1   dst_port                461043 non-null  int64\n",
      " 2   proto                   461043 non-null  int64\n",
      " 3   service                 461043 non-null  int64\n",
      " 4   src_bytes               461043 non-null  int64\n",
      " 5   dst_bytes               461043 non-null  int64\n",
      " 6   conn_state              461043 non-null  int64\n",
      " 7   missed_bytes            461043 non-null  int64\n",
      " 8   src_pkts                461043 non-null  int64\n",
      " 9   src_ip_bytes            461043 non-null  int64\n",
      " 10  dst_pkts                461043 non-null  int64\n",
      " 11  dst_ip_bytes            461043 non-null  int64\n",
      " 12  dns_qclass              461043 non-null  int64\n",
      " 13  dns_qtype               461043 non-null  int64\n",
      " 14  dns_rcode               461043 non-null  int64\n",
      " 15  dns_AA                  461043 non-null  int64\n",
      " 16  dns_RD                  461043 non-null  int64\n",
      " 17  dns_RA                  461043 non-null  int64\n",
      " 18  dns_rejected            461043 non-null  int64\n",
      " 19  ssl_resumed             461043 non-null  int64\n",
      " 20  ssl_established         461043 non-null  int64\n",
      " 21  http_trans_depth        461043 non-null  int64\n",
      " 22  http_request_body_len   461043 non-null  int64\n",
      " 23  http_response_body_len  461043 non-null  int64\n",
      " 24  http_status_code        461043 non-null  int64\n",
      " 25  type                    461043 non-null  int64\n",
      "dtypes: int64(26)\n",
      "memory usage: 91.5 MB\n"
     ]
    }
   ],
   "source": [
    "df.info()"
   ]
  },
  {
   "cell_type": "code",
   "execution_count": 89,
   "metadata": {
    "id": "U_SYlznavTWb"
   },
   "outputs": [],
   "source": [
    "df.drop(columns=['proto','dns_AA','http_status_code','dns_RA','dns_RD','dns_rejected','dns_qtype','dns_rcode','dns_qclass','missed_bytes','ssl_resumed','ssl_established'],inplace=True)"
   ]
  },
  {
   "cell_type": "code",
   "execution_count": 90,
   "metadata": {
    "colab": {
     "base_uri": "https://localhost:8080/"
    },
    "id": "D6HMQSuOxCnq",
    "outputId": "f0743260-7526-4964-96e3-50a3eb7a57fd"
   },
   "outputs": [
    {
     "name": "stdout",
     "output_type": "stream",
     "text": [
      "<class 'pandas.core.frame.DataFrame'>\n",
      "RangeIndex: 461043 entries, 0 to 461042\n",
      "Data columns (total 14 columns):\n",
      " #   Column                  Non-Null Count   Dtype\n",
      "---  ------                  --------------   -----\n",
      " 0   src_port                461043 non-null  int64\n",
      " 1   dst_port                461043 non-null  int64\n",
      " 2   service                 461043 non-null  int64\n",
      " 3   src_bytes               461043 non-null  int64\n",
      " 4   dst_bytes               461043 non-null  int64\n",
      " 5   conn_state              461043 non-null  int64\n",
      " 6   src_pkts                461043 non-null  int64\n",
      " 7   src_ip_bytes            461043 non-null  int64\n",
      " 8   dst_pkts                461043 non-null  int64\n",
      " 9   dst_ip_bytes            461043 non-null  int64\n",
      " 10  http_trans_depth        461043 non-null  int64\n",
      " 11  http_request_body_len   461043 non-null  int64\n",
      " 12  http_response_body_len  461043 non-null  int64\n",
      " 13  type                    461043 non-null  int64\n",
      "dtypes: int64(14)\n",
      "memory usage: 49.2 MB\n"
     ]
    }
   ],
   "source": [
    "df.info()"
   ]
  },
  {
   "cell_type": "code",
   "execution_count": 91,
   "metadata": {
    "id": "G3DF0UtxxEeu"
   },
   "outputs": [],
   "source": [
    "df.drop(columns=['http_trans_depth','http_request_body_len','http_response_body_len'],inplace=True)"
   ]
  },
  {
   "cell_type": "code",
   "execution_count": 92,
   "metadata": {
    "colab": {
     "base_uri": "https://localhost:8080/"
    },
    "id": "8XnF98wDyQWu",
    "outputId": "5e81eb2f-d71e-4de5-f2cc-b645e2e86cfa"
   },
   "outputs": [
    {
     "name": "stdout",
     "output_type": "stream",
     "text": [
      "<class 'pandas.core.frame.DataFrame'>\n",
      "RangeIndex: 461043 entries, 0 to 461042\n",
      "Data columns (total 11 columns):\n",
      " #   Column        Non-Null Count   Dtype\n",
      "---  ------        --------------   -----\n",
      " 0   src_port      461043 non-null  int64\n",
      " 1   dst_port      461043 non-null  int64\n",
      " 2   service       461043 non-null  int64\n",
      " 3   src_bytes     461043 non-null  int64\n",
      " 4   dst_bytes     461043 non-null  int64\n",
      " 5   conn_state    461043 non-null  int64\n",
      " 6   src_pkts      461043 non-null  int64\n",
      " 7   src_ip_bytes  461043 non-null  int64\n",
      " 8   dst_pkts      461043 non-null  int64\n",
      " 9   dst_ip_bytes  461043 non-null  int64\n",
      " 10  type          461043 non-null  int64\n",
      "dtypes: int64(11)\n",
      "memory usage: 38.7 MB\n"
     ]
    }
   ],
   "source": [
    "df.info()"
   ]
  },
  {
   "cell_type": "code",
   "execution_count": 93,
   "metadata": {
    "colab": {
     "base_uri": "https://localhost:8080/",
     "height": 196
    },
    "id": "QhwCUzzi25HW",
    "outputId": "0ec041b5-ee1b-477f-fc14-6f1cfcb79ef4"
   },
   "outputs": [
    {
     "data": {
      "text/html": [
       "<div>\n",
       "<style scoped>\n",
       "    .dataframe tbody tr th:only-of-type {\n",
       "        vertical-align: middle;\n",
       "    }\n",
       "\n",
       "    .dataframe tbody tr th {\n",
       "        vertical-align: top;\n",
       "    }\n",
       "\n",
       "    .dataframe thead th {\n",
       "        text-align: right;\n",
       "    }\n",
       "</style>\n",
       "<table border=\"1\" class=\"dataframe\">\n",
       "  <thead>\n",
       "    <tr style=\"text-align: right;\">\n",
       "      <th></th>\n",
       "      <th>src_port</th>\n",
       "      <th>dst_port</th>\n",
       "      <th>service</th>\n",
       "      <th>src_bytes</th>\n",
       "      <th>dst_bytes</th>\n",
       "      <th>conn_state</th>\n",
       "      <th>src_pkts</th>\n",
       "      <th>src_ip_bytes</th>\n",
       "      <th>dst_pkts</th>\n",
       "      <th>dst_ip_bytes</th>\n",
       "      <th>type</th>\n",
       "    </tr>\n",
       "  </thead>\n",
       "  <tbody>\n",
       "    <tr>\n",
       "      <th>0</th>\n",
       "      <td>1883</td>\n",
       "      <td>52976</td>\n",
       "      <td>0</td>\n",
       "      <td>1762852</td>\n",
       "      <td>41933215</td>\n",
       "      <td>0</td>\n",
       "      <td>252181</td>\n",
       "      <td>14911156</td>\n",
       "      <td>2</td>\n",
       "      <td>236</td>\n",
       "      <td>0</td>\n",
       "    </tr>\n",
       "    <tr>\n",
       "      <th>1</th>\n",
       "      <td>47260</td>\n",
       "      <td>15600</td>\n",
       "      <td>0</td>\n",
       "      <td>0</td>\n",
       "      <td>0</td>\n",
       "      <td>6</td>\n",
       "      <td>1</td>\n",
       "      <td>63</td>\n",
       "      <td>0</td>\n",
       "      <td>0</td>\n",
       "      <td>0</td>\n",
       "    </tr>\n",
       "    <tr>\n",
       "      <th>2</th>\n",
       "      <td>1880</td>\n",
       "      <td>51782</td>\n",
       "      <td>0</td>\n",
       "      <td>0</td>\n",
       "      <td>0</td>\n",
       "      <td>0</td>\n",
       "      <td>0</td>\n",
       "      <td>0</td>\n",
       "      <td>0</td>\n",
       "      <td>0</td>\n",
       "      <td>0</td>\n",
       "    </tr>\n",
       "    <tr>\n",
       "      <th>3</th>\n",
       "      <td>34296</td>\n",
       "      <td>10502</td>\n",
       "      <td>0</td>\n",
       "      <td>0</td>\n",
       "      <td>0</td>\n",
       "      <td>0</td>\n",
       "      <td>0</td>\n",
       "      <td>0</td>\n",
       "      <td>0</td>\n",
       "      <td>0</td>\n",
       "      <td>0</td>\n",
       "    </tr>\n",
       "    <tr>\n",
       "      <th>4</th>\n",
       "      <td>46608</td>\n",
       "      <td>53</td>\n",
       "      <td>3</td>\n",
       "      <td>0</td>\n",
       "      <td>298</td>\n",
       "      <td>12</td>\n",
       "      <td>0</td>\n",
       "      <td>0</td>\n",
       "      <td>2</td>\n",
       "      <td>354</td>\n",
       "      <td>0</td>\n",
       "    </tr>\n",
       "  </tbody>\n",
       "</table>\n",
       "</div>"
      ],
      "text/plain": [
       "   src_port  dst_port  service  ...  dst_pkts  dst_ip_bytes  type\n",
       "0      1883     52976        0  ...         2           236     0\n",
       "1     47260     15600        0  ...         0             0     0\n",
       "2      1880     51782        0  ...         0             0     0\n",
       "3     34296     10502        0  ...         0             0     0\n",
       "4     46608        53        3  ...         2           354     0\n",
       "\n",
       "[5 rows x 11 columns]"
      ]
     },
     "execution_count": 93,
     "metadata": {
      "tags": []
     },
     "output_type": "execute_result"
    }
   ],
   "source": [
    "df.head()"
   ]
  },
  {
   "cell_type": "code",
   "execution_count": null,
   "metadata": {
    "id": "5ldir-BE26Wn"
   },
   "outputs": [],
   "source": []
  },
  {
   "cell_type": "code",
   "execution_count": 94,
   "metadata": {
    "colab": {
     "base_uri": "https://localhost:8080/"
    },
    "id": "MN_AWLnMyTIg",
    "outputId": "0b75792e-2773-4984-ed31-9798a72804f2"
   },
   "outputs": [
    {
     "data": {
      "text/plain": [
       "(461043, 11)"
      ]
     },
     "execution_count": 94,
     "metadata": {
      "tags": []
     },
     "output_type": "execute_result"
    }
   ],
   "source": [
    "df.shape"
   ]
  },
  {
   "cell_type": "code",
   "execution_count": 95,
   "metadata": {
    "colab": {
     "base_uri": "https://localhost:8080/",
     "height": 885
    },
    "id": "wx2d3-f9y0by",
    "outputId": "0404d299-c018-496e-98bc-72d55f12b073"
   },
   "outputs": [
    {
     "data": {
      "text/plain": [
       "<matplotlib.axes._subplots.AxesSubplot at 0x7f3a71873a90>"
      ]
     },
     "execution_count": 95,
     "metadata": {
      "tags": []
     },
     "output_type": "execute_result"
    },
    {
     "data": {
      "image/png": "[encoded data removed]",
      "text/plain": [
       "<Figure size 1080x1080 with 2 Axes>"
      ]
     },
     "metadata": {
      "needs_background": "light",
      "tags": []
     },
     "output_type": "display_data"
    }
   ],
   "source": [
    "plt.figure(figsize=(15,15))\n",
    "sns.heatmap(df.corr(),annot=True,cmap='plasma')"
   ]
  },
  {
   "cell_type": "code",
   "execution_count": null,
   "metadata": {
    "id": "K8N6whv_zLvG"
   },
   "outputs": [],
   "source": []
  },
  {
   "cell_type": "markdown",
   "metadata": {
    "id": "_kqOeV6C1D5-"
   },
   "source": [
    "**FROM THE CORRELATION MATRIX WE CAN SEE THAT FEATURES TYPE NS SRC_BYTES HAVE VERY LOW FREQUENCY, SO WE CAN DROP THAT FEATURE TOO**"
   ]
  },
  {
   "cell_type": "code",
   "execution_count": 96,
   "metadata": {
    "id": "IMpo-goO1SG3"
   },
   "outputs": [],
   "source": [
    "df.drop(columns=['src_bytes'],inplace=True)"
   ]
  },
  {
   "cell_type": "code",
   "execution_count": 97,
   "metadata": {
    "colab": {
     "base_uri": "https://localhost:8080/"
    },
    "id": "DBjnsycb1cgP",
    "outputId": "27504855-c25f-489f-c50f-920c33c806fa"
   },
   "outputs": [
    {
     "name": "stdout",
     "output_type": "stream",
     "text": [
      "<class 'pandas.core.frame.DataFrame'>\n",
      "RangeIndex: 461043 entries, 0 to 461042\n",
      "Data columns (total 10 columns):\n",
      " #   Column        Non-Null Count   Dtype\n",
      "---  ------        --------------   -----\n",
      " 0   src_port      461043 non-null  int64\n",
      " 1   dst_port      461043 non-null  int64\n",
      " 2   service       461043 non-null  int64\n",
      " 3   dst_bytes     461043 non-null  int64\n",
      " 4   conn_state    461043 non-null  int64\n",
      " 5   src_pkts      461043 non-null  int64\n",
      " 6   src_ip_bytes  461043 non-null  int64\n",
      " 7   dst_pkts      461043 non-null  int64\n",
      " 8   dst_ip_bytes  461043 non-null  int64\n",
      " 9   type          461043 non-null  int64\n",
      "dtypes: int64(10)\n",
      "memory usage: 35.2 MB\n"
     ]
    }
   ],
   "source": [
    "df.info()"
   ]
  },
  {
   "cell_type": "markdown",
   "metadata": {
    "id": "PmDjYuM2zT5J"
   },
   "source": [
    "**SPLITIING OF DATA INTO TRAIN AND TEST**"
   ]
  },
  {
   "cell_type": "code",
   "execution_count": 100,
   "metadata": {
    "id": "3KKdkfEVzanu"
   },
   "outputs": [],
   "source": [
    "from sklearn.model_selection import StratifiedShuffleSplit\n",
    "split = StratifiedShuffleSplit(n_splits=1, test_size=0.25, random_state=42)\n",
    "for train_index, test_index in split.split(df, df['type']):\n",
    "    strat_train = df.loc[train_index]\n",
    "    strat_test = df.loc[test_index]\n",
    "strat_train['type'].value_counts()\n",
    "data = strat_train.copy()"
   ]
  },
  {
   "cell_type": "code",
   "execution_count": 101,
   "metadata": {
    "colab": {
     "base_uri": "https://localhost:8080/"
    },
    "id": "7RTecRGJ1hEz",
    "outputId": "0eed5a3a-3fb1-4d52-a6b8-f48b0c1e0266"
   },
   "outputs": [
    {
     "data": {
      "text/plain": [
       "(345782, 10)"
      ]
     },
     "execution_count": 101,
     "metadata": {
      "tags": []
     },
     "output_type": "execute_result"
    }
   ],
   "source": [
    "from sklearn.pipeline import Pipeline\n",
    "from sklearn.impute import SimpleImputer\n",
    "from sklearn.preprocessing import StandardScaler\n",
    "my_pipe = Pipeline([\n",
    "    ('imputer', SimpleImputer(strategy=\"median\")),\n",
    "    ('std_scaler', StandardScaler()),\n",
    "])\n",
    "\n",
    "##Numpy array output \n",
    "data_num = my_pipe.fit_transform(data)\n",
    "data_num.shape"
   ]
  },
  {
   "cell_type": "code",
   "execution_count": 102,
   "metadata": {
    "colab": {
     "base_uri": "https://localhost:8080/"
    },
    "id": "E6_NyB3dAbMO",
    "outputId": "037f3bc1-3d4f-4429-9a67-efdb0771882e"
   },
   "outputs": [
    {
     "data": {
      "text/plain": [
       "SVC(C=10, break_ties=False, cache_size=200, class_weight=None, coef0=0.0,\n",
       "    decision_function_shape='ovr', degree=3, gamma=1, kernel='rbf', max_iter=-1,\n",
       "    probability=False, random_state=1, shrinking=True, tol=0.001,\n",
       "    verbose=False)"
      ]
     },
     "execution_count": 102,
     "metadata": {
      "tags": []
     },
     "output_type": "execute_result"
    }
   ],
   "source": [
    "from sklearn.svm import SVC\n",
    "from sklearn import metrics\n",
    "\n",
    "##prepare for training\n",
    "x = data.drop('type', axis = 1)\n",
    "y = data['type'].copy()\n",
    "\n",
    "X =my_pipe.fit_transform(x)\n",
    "\n",
    "classifier = SVC(C=10, gamma=1, kernel=\"rbf\", random_state = 1)\n",
    "classifier.fit(X,y)"
   ]
  },
  {
   "cell_type": "code",
   "execution_count": 103,
   "metadata": {
    "id": "SGBm6YiOMFif"
   },
   "outputs": [],
   "source": [
    "X_test = strat_test.drop('type', axis=1)\n",
    "x_test = my_pipe.fit_transform(X_test)\n",
    "y_test = strat_test['type'].copy()"
   ]
  },
  {
   "cell_type": "code",
   "execution_count": 105,
   "metadata": {
    "id": "fMD6ZNIMQ0u3"
   },
   "outputs": [],
   "source": [
    "y_pred = classifier.predict(x_test)"
   ]
  },
  {
   "cell_type": "code",
   "execution_count": 106,
   "metadata": {
    "colab": {
     "base_uri": "https://localhost:8080/"
    },
    "id": "1TXhEN4bSg7T",
    "outputId": "ba8071d6-ab04-479c-f7af-1701793187a7"
   },
   "outputs": [
    {
     "name": "stdout",
     "output_type": "stream",
     "text": [
      "              precision    recall  f1-score   support\n",
      "\n",
      "           0       0.94      0.97      0.96     75000\n",
      "           1       0.86      0.64      0.73      5000\n",
      "           2       1.00      0.92      0.96      5000\n",
      "           3       0.73      0.71      0.72      5000\n",
      "           4       0.51      0.13      0.21       261\n",
      "           5       0.95      1.00      0.98      5000\n",
      "           6       0.79      0.72      0.75      5000\n",
      "           7       0.95      0.96      0.95      5000\n",
      "           8       0.89      0.77      0.83      5000\n",
      "           9       0.77      0.82      0.79      5000\n",
      "\n",
      "    accuracy                           0.92    115261\n",
      "   macro avg       0.84      0.76      0.79    115261\n",
      "weighted avg       0.92      0.92      0.92    115261\n",
      "\n"
     ]
    }
   ],
   "source": [
    "print(metrics.classification_report(y_test,y_pred))"
   ]
  },
  {
   "cell_type": "code",
   "execution_count": 107,
   "metadata": {
    "id": "JOu3T18l_vJS"
   },
   "outputs": [],
   "source": [
    "cm = metrics.confusion_matrix(y_test, y_pred)"
   ]
  },
  {
   "cell_type": "code",
   "execution_count": 108,
   "metadata": {
    "colab": {
     "base_uri": "https://localhost:8080/",
     "height": 281
    },
    "id": "-weOpDm0TKmH",
    "outputId": "4d1cf3f5-00ae-4949-cdf1-8042113de6eb"
   },
   "outputs": [
    {
     "data": {
      "text/plain": [
       "<matplotlib.axes._subplots.AxesSubplot at 0x7f3a71619898>"
      ]
     },
     "execution_count": 108,
     "metadata": {
      "tags": []
     },
     "output_type": "execute_result"
    },
    {
     "data": {
      "image/png": "[encoded data removed]",
      "text/plain": [
       "<Figure size 432x288 with 2 Axes>"
      ]
     },
     "metadata": {
      "needs_background": "light",
      "tags": []
     },
     "output_type": "display_data"
    }
   ],
   "source": [
    "import seaborn as sns \n",
    "sns.heatmap(cm)"
   ]
  },
  {
   "cell_type": "code",
   "execution_count": 109,
   "metadata": {
    "colab": {
     "base_uri": "https://localhost:8080/"
    },
    "id": "Dq2lrYTyTM5e",
    "outputId": "3fd36bd0-ae27-4096-d216-51633d8bb914"
   },
   "outputs": [
    {
     "data": {
      "text/plain": [
       "array([[73065,   385,     0,     9,    16,     0,    21,   171,   433,\n",
       "          900],\n",
       "       [ 1478,  3183,     0,    89,     1,     0,   124,    31,     0,\n",
       "           94],\n",
       "       [  385,     1,  4602,     1,     8,     0,     2,     0,     0,\n",
       "            1],\n",
       "       [  570,   100,     0,  3533,     0,     0,   697,     0,    12,\n",
       "           88],\n",
       "       [  213,     2,     0,     5,    35,     0,     1,     0,     4,\n",
       "            1],\n",
       "       [   12,     0,     0,     0,     0,  4988,     0,     0,     0,\n",
       "            0],\n",
       "       [   81,     2,     0,  1122,     3,   158,  3607,     0,     0,\n",
       "           27],\n",
       "       [  149,     0,     0,     0,     0,     0,     0,  4797,     6,\n",
       "           48],\n",
       "       [  847,     1,     0,     0,     5,    79,    83,    59,  3851,\n",
       "           75],\n",
       "       [  788,     9,     0,    60,     0,     0,    28,     0,     6,\n",
       "         4109]])"
      ]
     },
     "execution_count": 109,
     "metadata": {
      "tags": []
     },
     "output_type": "execute_result"
    }
   ],
   "source": [
    "cm"
   ]
  },
  {
   "cell_type": "code",
   "execution_count": null,
   "metadata": {},
   "outputs": [],
   "source": []
  }
 ],
 "metadata": {
  "colab": {
   "collapsed_sections": [],
   "name": "network_dataset.ipynb",
   "provenance": []
  },
  "kernelspec": {
   "display_name": "Python 3",
   "language": "python",
   "name": "python3"
  },
  "language_info": {
   "codemirror_mode": {
    "name": "ipython",
    "version": 3
   },
   "file_extension": ".py",
   "mimetype": "text/x-python",
   "name": "python",
   "nbconvert_exporter": "python",
   "pygments_lexer": "ipython3",
   "version": "3.8.5"
  }
 },
 "nbformat": 4,
 "nbformat_minor": 1
}
